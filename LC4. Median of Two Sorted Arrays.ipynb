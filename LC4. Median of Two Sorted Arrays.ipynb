{
 "cells": [
  {
   "cell_type": "markdown",
   "source": [
    "Given two sorted arrays nums1 and nums2 of size m and n respectively, return the median of the two sorted arrays.\n",
    "\n",
    " \n",
    "\n",
    "Example 1:\n",
    "\n",
    "Input: nums1 = [1,3], nums2 = [2]\n",
    "Output: 2.00000\n",
    "Explanation: merged array = [1,2,3] and median is 2.\n",
    "Example 2:\n",
    "\n",
    "Input: nums1 = [1,2], nums2 = [3,4]\n",
    "Output: 2.50000\n",
    "Explanation: merged array = [1,2,3,4] and median is (2 + 3) / 2 = 2.5.\n",
    "Example 3:\n",
    "\n",
    "Input: nums1 = [0,0], nums2 = [0,0]\n",
    "Output: 0.00000\n",
    "Example 4:\n",
    "\n",
    "Input: nums1 = [], nums2 = [1]\n",
    "Output: 1.00000\n",
    "Example 5:\n",
    "\n",
    "Input: nums1 = [2], nums2 = []\n",
    "Output: 2.00000\n",
    "\n",
    "来源：力扣（LeetCode）\n",
    "链接：https://leetcode-cn.com/problems/median-of-two-sorted-arrays\n",
    "著作权归领扣网络所有。商业转载请联系官方授权，非商业转载请注明出处。\n",
    "\n",
    "\n",
    "这个题目可以归结到寻找第k小(大)元素问题，思路可以总结如下：取两个数组中的第k/2个元素进行比较，如果数组1的元素小于数组2的元素，则说明数组1中的前k/2个元素不可能成为第k个元素的候选，所以将数组1中的前k/2个元素去掉，组成新数组和数组2求第k-k/2小的元素，因为我们把前k/2个元素去掉了，所以相应的k值也应该减小。另外就是注意处理一些边界条件问题，比如某一个数组可能为空或者k为1的情况。"
   ],
   "metadata": {}
  },
  {
   "cell_type": "code",
   "execution_count": 27,
   "source": [
    "def Merge(target, L, mid, R):\n",
    "    left = L\n",
    "    right = mid+1\n",
    "    newtarget = target.copy()\n",
    "    for index in range(R-L+1):\n",
    "        i = index + L\n",
    "        if left<=mid and right<=R:\n",
    "            if target[left]<target[right]:\n",
    "                newtarget[i] = target[left]\n",
    "                left+=1\n",
    "            else:\n",
    "                newtarget[i] = target[right]\n",
    "                right+=1\n",
    "        elif left <= mid:\n",
    "            newtarget[i] = target[left]\n",
    "            left+=1\n",
    "        elif right <= R:\n",
    "            newtarget[i] = target[right]\n",
    "            right+=1\n",
    "    return newtarget\n",
    "\n",
    "def Merge2(str1,str2):\n",
    "    \n",
    "    length1 = len(str1)\n",
    "    length2 = len(str2)\n",
    "    \n",
    "    if length1 == 0:\n",
    "        return mid_num(str2)\n",
    "    if length2 == 0:\n",
    "        return mid_num(str1)\n",
    "    \n",
    "    fullstr = str1+str2\n",
    "    \n",
    "    result = Merge(fullstr,0,length1-1,len(fullstr)-1)\n",
    "    print(result)\n",
    "    return mid_num(result)\n",
    "    \n",
    "    \n",
    "def mid_num(string):\n",
    "    length = len(string)\n",
    "    \n",
    "    if length % 2 == 1:\n",
    "        return string[length//2]\n",
    "    else:\n",
    "        return (string[length//2] + string[length//2-1]) * 0.5\n",
    "\n"
   ],
   "outputs": [],
   "metadata": {}
  },
  {
   "cell_type": "code",
   "execution_count": 112,
   "source": [
    "class Solution(object):\n",
    "    def findMedianSortedArrays(self, str1, str2):\n",
    "        \"\"\"\n",
    "        :type nums1: List[int]\n",
    "        :type nums2: List[int]\n",
    "        :rtype: float\n",
    "        \"\"\"\n",
    "        length1 = len(str1)\n",
    "        length2 = len(str2)\n",
    "        \n",
    "        length = length1 + length2\n",
    "        \n",
    "        if length % 2 == 1:\n",
    "            return self.kmethod(str1, 0, str2, 0, length // 2 + 1)\n",
    "        \n",
    "        else:\n",
    "            print(length // 2,length// 2+1)\n",
    "            left_mid = self.kmethod(str1, 0, str2, 0, length// 2)\n",
    "            right_mid = self.kmethod(str1, 0, str2, 0, length// 2+1)\n",
    "#         (left_mid + right_mid)/2\n",
    "\n",
    "        \n",
    "        \n",
    "            return (left_mid + right_mid)/2\n",
    "    \n",
    "    def kmethod(self, str1, left1, str2, left2, rank):\n",
    "        print('运行一次')\n",
    "        print('本次，str1：{}, str2:{}, rank={}'.format(str1[left1:],\n",
    "                                                   str2[left2:],\n",
    "                                                   rank))\n",
    "        \n",
    "        if str1[left1:] == []:\n",
    "            return str2[left2+rank-1]\n",
    "        if str2[left2:] == []:\n",
    "            return str1[left1+rank-1]\n",
    "            \n",
    "        \n",
    "        \n",
    "        \n",
    "        \n",
    "        if rank == 1:\n",
    "            \n",
    "            print('rank = 1')\n",
    "            print(str1[left1],str2[left2])\n",
    "            if str1[left1] > str2[left2]:\n",
    "                \n",
    "                return str2[left2]\n",
    "            else:\n",
    "                return str1[left1]\n",
    "        \n",
    "        print('rank !=1' )\n",
    "        length1 = len(str1[left1:])\n",
    "        length2 = len(str2[left2:])\n",
    "        \n",
    "        if length1 == 0:\n",
    "            return str2[left2+rank-1]\n",
    "        \n",
    "        if length2 == 0:\n",
    "            return str1[left1+rank-1]\n",
    "        \n",
    "        # 补长度，替换为最大值\n",
    "        if length1 < rank//2:\n",
    "            for index in range(rank//2 - length1):\n",
    "                str1.append(10**6)\n",
    "#         str1[left1] str1[left1 + rank//2 -length1]\n",
    "        if length2 < rank//2:\n",
    "            for index in range(rank//2 - length2):\n",
    "                str2.append(10**6)\n",
    "        print(str1,str2)\n",
    "        \n",
    "        if str1[left1+rank//2-1] < str2[left2+rank//2-1]:\n",
    "            left1 += rank//2\n",
    "            rank -= rank//2\n",
    "            print('left1 ++',left1, rank)\n",
    "        else:\n",
    "            left2 += rank//2\n",
    "            rank -= rank//2\n",
    "            \n",
    "            \n",
    "        print(str1[left1:],str2[left2:])\n",
    "        return self.kmethod(str1,left1, str2, left2,rank)\n",
    "    \n",
    "solu = Solution()\n",
    "str1 = [1,3]\n",
    "str2 = [2,4,5,6,8]\n",
    "nums1 = []\n",
    "nums2 = [1]\n",
    "left1 = 0\n",
    "left2 = 0\n",
    "rank = 7\n",
    "# solu.kmethod(str1, left1, str2, left2, rank)\n",
    "# solu.findMedianSortedArrays(nums1,nums2)\n",
    "# nums1 = [2]\n",
    "# nums2 = [] \n",
    "# solu.findMedianSortedArrays(nums1,nums2)\n",
    "# nums1 = [0,0]\n",
    "# nums2 = [0,0]\n",
    "# solu.findMedianSortedArrays(nums1,nums2)\n",
    "nums1 = [1,2]\n",
    "nums2 = [3,4]\n",
    "solu.findMedianSortedArrays(nums1,nums2)"
   ],
   "outputs": [
    {
     "output_type": "stream",
     "name": "stdout",
     "text": [
      "2 3\n",
      "运行一次\n",
      "本次，str1：[1, 2], str2:[3, 4], rank=2\n",
      "rank !=1\n",
      "[1, 2] [3, 4]\n",
      "left1 ++ 1 1\n",
      "[2] [3, 4]\n",
      "运行一次\n",
      "本次，str1：[2], str2:[3, 4], rank=1\n",
      "rank = 1\n",
      "2 3\n",
      "运行一次\n",
      "本次，str1：[1, 2], str2:[3, 4], rank=3\n",
      "rank !=1\n",
      "[1, 2] [3, 4]\n",
      "left1 ++ 1 2\n",
      "[2] [3, 4]\n",
      "运行一次\n",
      "本次，str1：[2], str2:[3, 4], rank=2\n",
      "rank !=1\n",
      "[1, 2] [3, 4]\n",
      "left1 ++ 2 1\n",
      "[] [3, 4]\n",
      "运行一次\n",
      "本次，str1：[], str2:[3, 4], rank=1\n"
     ]
    },
    {
     "output_type": "execute_result",
     "data": {
      "text/plain": [
       "2.5"
      ]
     },
     "metadata": {},
     "execution_count": 112
    }
   ],
   "metadata": {}
  },
  {
   "cell_type": "code",
   "execution_count": 29,
   "source": [
    "2//2"
   ],
   "outputs": [
    {
     "output_type": "execute_result",
     "data": {
      "text/plain": [
       "1"
      ]
     },
     "metadata": {},
     "execution_count": 29
    }
   ],
   "metadata": {}
  },
  {
   "cell_type": "code",
   "execution_count": 82,
   "source": [
    "nums1[0]"
   ],
   "outputs": [
    {
     "output_type": "error",
     "ename": "IndexError",
     "evalue": "list index out of range",
     "traceback": [
      "\u001b[0;31m---------------------------------------------------------------------------\u001b[0m",
      "\u001b[0;31mIndexError\u001b[0m                                Traceback (most recent call last)",
      "\u001b[0;32m<ipython-input-82-8ebedf70484b>\u001b[0m in \u001b[0;36m<module>\u001b[0;34m\u001b[0m\n\u001b[0;32m----> 1\u001b[0;31m \u001b[0mnums1\u001b[0m\u001b[0;34m[\u001b[0m\u001b[0;36m0\u001b[0m\u001b[0;34m]\u001b[0m\u001b[0;34m\u001b[0m\u001b[0;34m\u001b[0m\u001b[0m\n\u001b[0m",
      "\u001b[0;31mIndexError\u001b[0m: list index out of range"
     ]
    }
   ],
   "metadata": {}
  },
  {
   "cell_type": "code",
   "execution_count": 48,
   "source": [
    "str1 = [1,3]\n",
    "str2 = [2,4]\n",
    "len(string[2:])\n",
    "str1[3] = 0"
   ],
   "outputs": [
    {
     "output_type": "error",
     "ename": "IndexError",
     "evalue": "list assignment index out of range",
     "traceback": [
      "\u001b[0;31m---------------------------------------------------------------------------\u001b[0m",
      "\u001b[0;31mIndexError\u001b[0m                                Traceback (most recent call last)",
      "\u001b[0;32m<ipython-input-48-a7a1dc760c23>\u001b[0m in \u001b[0;36m<module>\u001b[0;34m\u001b[0m\n\u001b[1;32m      2\u001b[0m \u001b[0mstr2\u001b[0m \u001b[0;34m=\u001b[0m \u001b[0;34m[\u001b[0m\u001b[0;36m2\u001b[0m\u001b[0;34m,\u001b[0m\u001b[0;36m4\u001b[0m\u001b[0;34m]\u001b[0m\u001b[0;34m\u001b[0m\u001b[0;34m\u001b[0m\u001b[0m\n\u001b[1;32m      3\u001b[0m \u001b[0mlen\u001b[0m\u001b[0;34m(\u001b[0m\u001b[0mstring\u001b[0m\u001b[0;34m[\u001b[0m\u001b[0;36m2\u001b[0m\u001b[0;34m:\u001b[0m\u001b[0;34m]\u001b[0m\u001b[0;34m)\u001b[0m\u001b[0;34m\u001b[0m\u001b[0;34m\u001b[0m\u001b[0m\n\u001b[0;32m----> 4\u001b[0;31m \u001b[0mstr1\u001b[0m\u001b[0;34m[\u001b[0m\u001b[0;36m3\u001b[0m\u001b[0;34m]\u001b[0m \u001b[0;34m=\u001b[0m \u001b[0;36m0\u001b[0m\u001b[0;34m\u001b[0m\u001b[0;34m\u001b[0m\u001b[0m\n\u001b[0m",
      "\u001b[0;31mIndexError\u001b[0m: list assignment index out of range"
     ]
    }
   ],
   "metadata": {}
  },
  {
   "cell_type": "code",
   "execution_count": 30,
   "source": [
    "nums1 = [1,3]\n",
    "nums2 = [2]\n",
    "\n",
    "nums1 = [1,2]\n",
    "nums2 = [3,4]\n",
    "\n",
    "nums1 = [0,0]\n",
    "nums2 = [0,0]\n",
    "\n",
    "nums1 = []\n",
    "nums2 = [1]\n",
    "\n",
    "nums1 = [2]\n",
    "nums2 = []\n",
    "\n",
    "Merge2(nums1,nums2)"
   ],
   "outputs": [
    {
     "output_type": "execute_result",
     "data": {
      "text/plain": [
       "2"
      ]
     },
     "metadata": {},
     "execution_count": 30
    }
   ],
   "metadata": {}
  },
  {
   "cell_type": "code",
   "execution_count": 100,
   "source": [
    "import math\n",
    "length = 8\n",
    "\n",
    "print(math.ceil(9/2),math.ceil(8/2))\n",
    "\n",
    "\n",
    "\n",
    "length = 7\n",
    "print(7//2)\n",
    "print(8//2)\n",
    "print(9//2)\n",
    "# if odd then length+1//2 and length length+2//2\n",
    "\n",
    "length = 8\n",
    "print(8//2)\n",
    "print(7//2)\n",
    "\n",
    "# if even then length//2 and length-1//2"
   ],
   "outputs": [
    {
     "output_type": "stream",
     "name": "stdout",
     "text": [
      "5 4\n",
      "3\n",
      "4\n",
      "4\n",
      "4\n",
      "3\n"
     ]
    }
   ],
   "metadata": {}
  },
  {
   "cell_type": "code",
   "execution_count": 52,
   "source": [
    "4//2"
   ],
   "outputs": [
    {
     "output_type": "execute_result",
     "data": {
      "text/plain": [
       "2"
      ]
     },
     "metadata": {},
     "execution_count": 52
    }
   ],
   "metadata": {}
  },
  {
   "cell_type": "code",
   "execution_count": 53,
   "source": [
    "5//2"
   ],
   "outputs": [
    {
     "output_type": "execute_result",
     "data": {
      "text/plain": [
       "2"
      ]
     },
     "metadata": {},
     "execution_count": 53
    }
   ],
   "metadata": {}
  }
 ],
 "metadata": {
  "kernelspec": {
   "display_name": "Python3.6",
   "language": "python",
   "name": "python36"
  },
  "language_info": {
   "codemirror_mode": {
    "name": "ipython",
    "version": 3
   },
   "file_extension": ".py",
   "mimetype": "text/x-python",
   "name": "python",
   "nbconvert_exporter": "python",
   "pygments_lexer": "ipython3",
   "version": "3.6.12"
  }
 },
 "nbformat": 4,
 "nbformat_minor": 4
}