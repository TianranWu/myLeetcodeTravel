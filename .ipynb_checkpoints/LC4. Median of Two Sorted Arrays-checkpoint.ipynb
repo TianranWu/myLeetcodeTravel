{
 "cells": [
  {
   "cell_type": "code",
   "execution_count": 27,
   "metadata": {},
   "outputs": [],
   "source": [
    "def Merge(target, L, mid, R):\n",
    "    left = L\n",
    "    right = mid+1\n",
    "    newtarget = target.copy()\n",
    "    for index in range(R-L+1):\n",
    "        i = index + L\n",
    "        if left<=mid and right<=R:\n",
    "            if target[left]<target[right]:\n",
    "                newtarget[i] = target[left]\n",
    "                left+=1\n",
    "            else:\n",
    "                newtarget[i] = target[right]\n",
    "                right+=1\n",
    "        elif left <= mid:\n",
    "            newtarget[i] = target[left]\n",
    "            left+=1\n",
    "        elif right <= R:\n",
    "            newtarget[i] = target[right]\n",
    "            right+=1\n",
    "    return newtarget\n",
    "\n",
    "def Merge2(str1,str2):\n",
    "    \n",
    "    length1 = len(str1)\n",
    "    length2 = len(str2)\n",
    "    \n",
    "    if length1 == 0:\n",
    "        return mid_num(str2)\n",
    "    if length2 == 0:\n",
    "        return mid_num(str1)\n",
    "    \n",
    "    fullstr = str1+str2\n",
    "    \n",
    "    result = Merge(fullstr,0,length1-1,len(fullstr)-1)\n",
    "    print(result)\n",
    "    return mid_num(result)\n",
    "    \n",
    "    \n",
    "def mid_num(string):\n",
    "    length = len(string)\n",
    "    \n",
    "    if length % 2 == 1:\n",
    "        return string[length//2]\n",
    "    else:\n",
    "        return (string[length//2] + string[length//2-1]) * 0.5\n",
    "\n"
   ]
  },
  {
   "cell_type": "code",
   "execution_count": null,
   "metadata": {},
   "outputs": [],
   "source": []
  },
  {
   "cell_type": "code",
   "execution_count": 30,
   "metadata": {},
   "outputs": [
    {
     "data": {
      "text/plain": [
       "2"
      ]
     },
     "execution_count": 30,
     "metadata": {},
     "output_type": "execute_result"
    }
   ],
   "source": [
    "nums1 = [1,3]\n",
    "nums2 = [2]\n",
    "\n",
    "nums1 = [1,2]\n",
    "nums2 = [3,4]\n",
    "\n",
    "nums1 = [0,0]\n",
    "nums2 = [0,0]\n",
    "\n",
    "nums1 = []\n",
    "nums2 = [1]\n",
    "\n",
    "nums1 = [2]\n",
    "nums2 = []\n",
    "\n",
    "Merge2(nums1,nums2)"
   ]
  },
  {
   "cell_type": "code",
   "execution_count": 19,
   "metadata": {},
   "outputs": [
    {
     "name": "stdout",
     "output_type": "stream",
     "text": [
      "[1, 2, 3, 4]\n"
     ]
    },
    {
     "data": {
      "text/plain": [
       "2.5"
      ]
     },
     "execution_count": 19,
     "metadata": {},
     "output_type": "execute_result"
    }
   ],
   "source": []
  },
  {
   "cell_type": "code",
   "execution_count": 14,
   "metadata": {},
   "outputs": [
    {
     "data": {
      "text/plain": [
       "1"
      ]
     },
     "execution_count": 14,
     "metadata": {},
     "output_type": "execute_result"
    }
   ],
   "source": [
    "3//2"
   ]
  }
 ],
 "metadata": {
  "kernelspec": {
   "display_name": "Python3.6",
   "language": "python",
   "name": "python36"
  },
  "language_info": {
   "codemirror_mode": {
    "name": "ipython",
    "version": 3
   },
   "file_extension": ".py",
   "mimetype": "text/x-python",
   "name": "python",
   "nbconvert_exporter": "python",
   "pygments_lexer": "ipython3",
   "version": "3.6.12"
  }
 },
 "nbformat": 4,
 "nbformat_minor": 4
}
