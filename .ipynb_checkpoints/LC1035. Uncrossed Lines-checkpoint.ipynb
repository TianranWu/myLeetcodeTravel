{
 "cells": [
  {
   "cell_type": "markdown",
   "metadata": {},
   "source": [
    "You are given two integer arrays nums1 and nums2. We write the integers of nums1 and nums2 (in the order they are given) on two separate horizontal lines.\n",
    "\n",
    "We may draw connecting lines: a straight line connecting two numbers nums1[i] and nums2[j] such that:\n",
    "\n",
    "nums1[i] == nums2[j], and\n",
    "the line we draw does not intersect any other connecting (non-horizontal) line.\n",
    "Note that a connecting line cannot intersect even at the endpoints (i.e., each number can only belong to one connecting line).\n",
    "\n",
    "Return the maximum number of connecting lines we can draw in this way.\n",
    "\n"
   ]
  },
  {
   "cell_type": "markdown",
   "metadata": {},
   "source": [
    "和1143其实是一毛一样的：都是求最大长度的共同子串。\n",
    "\n",
    "动态规划\n",
    "\n",
    "解法注释：\n",
    "1. 用一个dp矩阵来表示两个数组*目前长度（一个长$i$，一个长$j$）*下的子串匹配情况.\n",
    "2. 那么、下一长度（一个长$i+1$，一个长$j+1$）的匹配状况就可以分情况讨论\n",
    "    2.1 如果i元素和j元素相同，没的说，直接匹配子串+1\n",
    "    2.2 如果不相同，那么就要看子串1中的第i个元素是不是在子串2中有匹配？相反，子串2的j元素是不是和子串1有匹配结果。即（一个长$i+1$，一个长$j$）的匹配状况、以及（一个长$i$，一个长$j+1$）的匹配状况，取最大值即可。\n",
    "3. 初始0，0位置匹配一定是0（长度是0，长度是0）\n",
    "4. 最后输出的结果是dp(子串1长度，子串2长度)"
   ]
  },
  {
   "cell_type": "code",
   "execution_count": null,
   "metadata": {},
   "outputs": [],
   "source": [
    "class Solution:\n",
    "    def maxUncrossedLines(self, nums1: List[int], nums2: List[int]) -> int:\n",
    "        len1 = len(nums1)\n",
    "        len2 = len(nums2)\n",
    "\n",
    "        dp = [[0] * (len2+1) for _ in range(len1+1)]\n",
    "\n",
    "        \n",
    "\n",
    "        for i in range(len1):\n",
    "            for j in range(len2):\n",
    "                if nums1[i] == nums2[j]:\n",
    "                    dp[i+1][j+1] = dp[i][j] + 1\n",
    "                else:\n",
    "                    dp[i+1][j+1] = max(dp[i][j+1],dp[i+1][j])\n",
    "                # print(i+1,j+1,dp[i+1][j+1])\n",
    "\n",
    "        # print(dp)\n",
    "        return dp[len1][len2]"
   ]
  }
 ],
 "metadata": {
  "kernelspec": {
   "display_name": "Python3.6",
   "language": "python",
   "name": "python36"
  },
  "language_info": {
   "codemirror_mode": {
    "name": "ipython",
    "version": 3
   },
   "file_extension": ".py",
   "mimetype": "text/x-python",
   "name": "python",
   "nbconvert_exporter": "python",
   "pygments_lexer": "ipython3",
   "version": "3.6.12"
  }
 },
 "nbformat": 4,
 "nbformat_minor": 4
}
