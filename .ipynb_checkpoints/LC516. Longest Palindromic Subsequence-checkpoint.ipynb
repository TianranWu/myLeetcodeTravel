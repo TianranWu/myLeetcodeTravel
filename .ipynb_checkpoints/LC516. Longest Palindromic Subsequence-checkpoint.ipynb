{
 "cells": [
  {
   "cell_type": "code",
   "execution_count": 12,
   "metadata": {},
   "outputs": [
    {
     "name": "stdout",
     "output_type": "stream",
     "text": [
      "3 5 ab 1\n",
      "2 4 ba 1\n",
      "2 5 bab 3\n",
      "1 3 bb 2\n",
      "1 4 bba 2\n",
      "1 5 bbab 3\n",
      "0 2 bb 2\n",
      "0 3 bbb 3\n",
      "0 4 bbba 3\n",
      "0 5 bbbab 4\n",
      "[[0, 1, 2, 3, 3, 4], [0, 0, 1, 2, 2, 3], [0, 0, 0, 1, 1, 3], [0, 0, 0, 0, 1, 1], [0, 0, 0, 0, 0, 1], [0, 0, 0, 0, 0, 0]]\n"
     ]
    },
    {
     "data": {
      "text/plain": [
       "4"
      ]
     },
     "execution_count": 12,
     "metadata": {},
     "output_type": "execute_result"
    }
   ],
   "source": [
    "def longestPalindromeSubseq(s):\n",
    "    \"\"\"\n",
    "    :type s: str\n",
    "    :rtype: int\n",
    "    \"\"\"\n",
    "    len1 = len(s)\n",
    "    dp = [[0] * (len1+1) for _ in range(1+len1)]\n",
    "    dp[0][0] = 0\n",
    "\n",
    "    for i in range(len1):\n",
    "        dp[i][i+1] = 1\n",
    "\n",
    "    for i in range(len1,0,-1):\n",
    "#         print(i)\n",
    "        for j in range(i, len1): # 这个边界一定要好好想！！！\n",
    "#             print(i,j)\n",
    "            if s[i-1] == s[j]:\n",
    "                dp[i-1][j+1] = dp[i][j] + 2\n",
    "            else:\n",
    "                dp[i-1][j+1]=max(dp[i-1][j],dp[i][j+1])\n",
    "            print(i-1,j+1, s[i-1:j+1],dp[i-1][j+1])\n",
    "    print(dp)\n",
    "    return dp[0][-1]\n",
    "\n",
    "s = 'bbbab'\n",
    "longestPalindromeSubseq(s)"
   ]
  },
  {
   "cell_type": "code",
   "execution_count": 13,
   "metadata": {},
   "outputs": [
    {
     "name": "stdout",
     "output_type": "stream",
     "text": [
      "2 5 bab 3\n",
      "1 4 bba 0\n",
      "1 5 bbab 2\n",
      "0 3 bbb 3\n",
      "0 4 bbba 3\n",
      "0 5 bbbab 2\n",
      "[[0, 1, 0, 3, 3, 2], [0, 0, 1, 0, 0, 2], [0, 0, 0, 1, 0, 3], [0, 0, 0, 0, 1, 0], [0, 0, 0, 0, 0, 1], [0, 0, 0, 0, 0, 0]]\n"
     ]
    },
    {
     "data": {
      "text/plain": [
       "2"
      ]
     },
     "execution_count": 13,
     "metadata": {},
     "output_type": "execute_result"
    }
   ],
   "source": [
    "def longestPalindromeSubseq(s):\n",
    "    \"\"\"\n",
    "    :type s: str\n",
    "    :rtype: int\n",
    "    \"\"\"\n",
    "    len1 = len(s)\n",
    "    dp = [[0] * (len1+1) for _ in range(1+len1)]\n",
    "    dp[0][0] = 0\n",
    "\n",
    "    for i in range(len1):\n",
    "        dp[i][i+1] = 1\n",
    "\n",
    "    for i in range(len1,0,-1):\n",
    "#         print(i)\n",
    "        for j in range(i+1, len1):\n",
    "#             print(i,j)\n",
    "            if s[i-1] == s[j]:\n",
    "                dp[i-1][j+1] = dp[i][j] + 2\n",
    "            else:\n",
    "                dp[i-1][j+1]=max(dp[i-1][j],dp[i][j+1])\n",
    "            print(i-1,j+1, s[i-1:j+1],dp[i-1][j+1])\n",
    "    print(dp)\n",
    "    return dp[0][-1]\n",
    "\n",
    "s = 'bbbab'\n",
    "longestPalindromeSubseq(s)"
   ]
  },
  {
   "cell_type": "code",
   "execution_count": 6,
   "metadata": {},
   "outputs": [
    {
     "name": "stdout",
     "output_type": "stream",
     "text": [
      "3 4\n",
      "2 5 bab 3\n",
      "2 3\n",
      "1 4 bba 0\n",
      "2 4\n",
      "1 5 bbab 2\n",
      "1 2\n",
      "0 3 bbb 3\n",
      "1 3\n",
      "0 4 bbba 3\n",
      "1 4\n",
      "0 5 bbbab 2\n",
      "[[0, 1, 0, 3, 3, 2], [0, 0, 1, 0, 0, 2], [0, 0, 0, 1, 0, 3], [0, 0, 0, 0, 1, 0], [0, 0, 0, 0, 0, 1], [0, 0, 0, 0, 0, 0]]\n"
     ]
    },
    {
     "data": {
      "text/plain": [
       "2"
      ]
     },
     "execution_count": 6,
     "metadata": {},
     "output_type": "execute_result"
    }
   ],
   "source": [
    "s = 'bbbab'\n",
    "longestPalindromeSubseq(s)\n",
    "\n"
   ]
  },
  {
   "cell_type": "code",
   "execution_count": 7,
   "metadata": {},
   "outputs": [
    {
     "name": "stdout",
     "output_type": "stream",
     "text": [
      "6\n",
      "5\n",
      "4\n",
      "3\n",
      "2\n",
      "1\n"
     ]
    }
   ],
   "source": [
    "for i in range(6,0,-1):\n",
    "    print(i)"
   ]
  }
 ],
 "metadata": {
  "kernelspec": {
   "display_name": "Python3.6",
   "language": "python",
   "name": "python36"
  },
  "language_info": {
   "codemirror_mode": {
    "name": "ipython",
    "version": 3
   },
   "file_extension": ".py",
   "mimetype": "text/x-python",
   "name": "python",
   "nbconvert_exporter": "python",
   "pygments_lexer": "ipython3",
   "version": "3.6.12"
  }
 },
 "nbformat": 4,
 "nbformat_minor": 4
}
