{
 "cells": [
  {
   "cell_type": "code",
   "execution_count": 58,
   "metadata": {},
   "outputs": [
    {
     "name": "stdout",
     "output_type": "stream",
     "text": [
      "-1\n",
      "-42\n",
      "result: -42\n",
      "10\n",
      "words and 987\n",
      "result: 0\n",
      "-1\n",
      "4193\n",
      "result: 4193\n",
      "3\n",
      "   -42\n",
      "result: -42\n",
      "3\n",
      "   -5\n",
      "result: -5\n",
      "3\n",
      "   -13\n",
      "result: -13\n"
     ]
    }
   ],
   "source": [
    "class Solution(object):\n",
    "    def myAtoi(self, s):\n",
    "        \"\"\"\n",
    "        :type s: str\n",
    "        :rtype: int\n",
    "        \"\"\"\n",
    "        index = 0\n",
    "        count = ''\n",
    "        begin = 0\n",
    "        begin_index = -1\n",
    "        while(index < len(s)):\n",
    "            if s[index] in ['0','1','2','3','4','5','6','7','8','9','+','-']:\n",
    "                \n",
    "                \n",
    "                if begin == 1 and s[index] in ['-', '+']:\n",
    "                    break\n",
    "                \n",
    "#                 print(s[index])\n",
    "                count = count + s[index]\n",
    "                begin = 1\n",
    "                index +=1\n",
    "            else:\n",
    "                if begin==0:\n",
    "                    index +=1\n",
    "                    begin_index = index\n",
    "                    continue\n",
    "                else:\n",
    "                    break\n",
    "        print(begin_index)            \n",
    "        if begin_index != -1:            \n",
    "            count = s[0:begin_index] + count\n",
    "#         count = int(count)\n",
    "        print(count)\n",
    "        try:\n",
    "            count = int(count)\n",
    "        except:\n",
    "            return 0\n",
    "        \n",
    "        if count < -2**31:\n",
    "            return -2 ** 31\n",
    "        if count > 2 ** 31 -1:\n",
    "            return 2**31-1\n",
    "        \n",
    "        return count\n",
    "\n",
    "solu = Solution()\n",
    "\n",
    "# print(solu.myAtoi('-word -42'))\n",
    "# print('next')\n",
    "print('result:',solu.myAtoi('-42 word53'))\n",
    "print('result:',solu.myAtoi(\"words and 987\"))\n",
    "print('result:',solu.myAtoi(\"4193 with words\"))\n",
    "print('result:',solu.myAtoi(\"   -42\"))\n",
    "print('result:',solu.myAtoi(\"   -5-\"))\n",
    "print('result:',solu.myAtoi(\"   -13+8\"))\n"
   ]
  },
  {
   "cell_type": "code",
   "execution_count": null,
   "metadata": {},
   "outputs": [],
   "source": []
  },
  {
   "cell_type": "code",
   "execution_count": null,
   "metadata": {},
   "outputs": [],
   "source": []
  },
  {
   "cell_type": "code",
   "execution_count": null,
   "metadata": {},
   "outputs": [],
   "source": [
    "\n",
    "遇见第一个【数字、符号】-》 开始\n",
    "\n",
    "\n",
    "\n",
    "开始 - 遇见数字 加上去\n",
    "    - 遇见非数字 break"
   ]
  },
  {
   "cell_type": "code",
   "execution_count": 60,
   "metadata": {},
   "outputs": [
    {
     "name": "stdout",
     "output_type": "stream",
     "text": [
      "result: -42\n",
      "result: 0\n",
      "result: 4193\n",
      "result: -42\n",
      "result: -5\n",
      "result: -13\n"
     ]
    }
   ],
   "source": [
    "class Solution(object):\n",
    "    def myAtoi(self, s):\n",
    "        \"\"\"\n",
    "        :type s: str\n",
    "        :rtype: int\n",
    "        \"\"\"\n",
    "        index = 0\n",
    "        count = ''\n",
    "        begin = 0\n",
    "        begin_index = -1\n",
    "        while(index < len(s)):\n",
    "            \n",
    "            if begin == 1 and not s[index] in ['0','1','2','3','4','5','6','7','8','9']:\n",
    "                break\n",
    "    \n",
    "            if s[index] in ['0','1','2','3','4','5','6','7','8','9','+','-']:\n",
    "                begin = 1\n",
    "                count = count + s[index]\n",
    "                index +=1                \n",
    "            else:\n",
    "                index +=1\n",
    "                begin_index = index\n",
    "                             \n",
    "        if begin_index != -1:            \n",
    "            count = s[0:begin_index] + count\n",
    "\n",
    "        try:\n",
    "            count = int(count)\n",
    "        except:\n",
    "            return 0\n",
    "        \n",
    "        if count < -2**31:\n",
    "            return -2 ** 31\n",
    "        if count > 2 ** 31 -1:\n",
    "            return 2**31-1\n",
    "        \n",
    "        return count\n",
    "\n",
    "solu = Solution()\n",
    "\n",
    "# print(solu.myAtoi('-word -42'))\n",
    "# print('next')\n",
    "print('result:',solu.myAtoi('-42 word53'))\n",
    "print('result:',solu.myAtoi(\"words and 987\"))\n",
    "print('result:',solu.myAtoi(\"4193 with words\"))\n",
    "print('result:',solu.myAtoi(\"   -42\"))\n",
    "print('result:',solu.myAtoi(\"   -5-\"))\n",
    "print('result:',solu.myAtoi(\"   -13+8\"))\n"
   ]
  },
  {
   "cell_type": "code",
   "execution_count": 53,
   "metadata": {},
   "outputs": [
    {
     "ename": "ValueError",
     "evalue": "invalid literal for int() with base 10: '    -42-'",
     "output_type": "error",
     "traceback": [
      "\u001b[0;31m---------------------------------------------------------------------------\u001b[0m",
      "\u001b[0;31mValueError\u001b[0m                                Traceback (most recent call last)",
      "\u001b[0;32m<ipython-input-53-264275b05744>\u001b[0m in \u001b[0;36m<module>\u001b[0;34m\u001b[0m\n\u001b[0;32m----> 1\u001b[0;31m \u001b[0mint\u001b[0m\u001b[0;34m(\u001b[0m\u001b[0;34m'    -42-'\u001b[0m\u001b[0;34m)\u001b[0m\u001b[0;34m\u001b[0m\u001b[0;34m\u001b[0m\u001b[0m\n\u001b[0m",
      "\u001b[0;31mValueError\u001b[0m: invalid literal for int() with base 10: '    -42-'"
     ]
    }
   ],
   "source": [
    "int('    -42-')"
   ]
  }
 ],
 "metadata": {
  "kernelspec": {
   "display_name": "Python 3",
   "language": "python",
   "name": "python3"
  },
  "language_info": {
   "codemirror_mode": {
    "name": "ipython",
    "version": 3
   },
   "file_extension": ".py",
   "mimetype": "text/x-python",
   "name": "python",
   "nbconvert_exporter": "python",
   "pygments_lexer": "ipython3",
   "version": "3.8.5"
  }
 },
 "nbformat": 4,
 "nbformat_minor": 4
}
