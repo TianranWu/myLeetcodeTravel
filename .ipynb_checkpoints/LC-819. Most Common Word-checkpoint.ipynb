{
 "cells": [
  {
   "cell_type": "code",
   "execution_count": 29,
   "metadata": {},
   "outputs": [],
   "source": [
    "class Solution:\n",
    "    def sub_mark(self, sent:str):\n",
    "        for i,string in enumerate(sent):\n",
    "            if string in ['?','!','.',',','\"','#','$','%','&','\\'',';',':','-']:\n",
    "                sent = sent[:i] + ' ' + sent[i+1:]\n",
    "        return sent\n",
    "            \n",
    "    def mostCommonWord(self, paragraph, banned) -> str:\n",
    "        paragraph = self.sub_mark(paragraph)\n",
    "        word = paragraph.split()\n",
    "\n",
    "        newword = [self.removeMark(this_word.lower()) for this_word in word]\n",
    "\n",
    "        dic = {}\n",
    "        for this_word in newword:\n",
    "            if this_word in banned:\n",
    "                continue\n",
    "                \n",
    "            if this_word in dic.keys():\n",
    "                dic[this_word] +=1\n",
    "            else:\n",
    "                dic[this_word] = 1\n",
    "            \n",
    "\n",
    "        sort_result = sorted(dic.items(), key = lambda kv:(kv[1], kv[0]))\n",
    "        print(sort_result)\n",
    "        return sort_result[-1][0]\n",
    "    \n",
    "    def removeMark(self, t_word):\n",
    "        if t_word[-1] == '?' or t_word[-1] == '.' or t_word[-1] == ',' or t_word[-1] =='!':\n",
    "            word = t_word[:-1]\n",
    "        else:\n",
    "            word = t_word\n",
    "        return word\n",
    "\n",
    "    "
   ]
  },
  {
   "cell_type": "code",
   "execution_count": 30,
   "metadata": {},
   "outputs": [
    {
     "name": "stdout",
     "output_type": "stream",
     "text": [
      "[('h', 8), ('j', 10), ('k', 11), ('r', 17), ('v', 22), ('z', 23)]\n"
     ]
    },
    {
     "data": {
      "text/plain": [
       "'z'"
      ]
     },
     "execution_count": 30,
     "metadata": {},
     "output_type": "execute_result"
    }
   ],
   "source": [
    "paragraph = \"L, P! X! C; u! P? w! P. G, S? l? X? D. w? m? f? v, x? i. z; x' m! U' M! j? V; l. S! j? r, K. O? k? p? p, H! t! z' X! v. u; F, h; s? X? K. y, Y! L; q! y? j, o? D' y? F' Z; E? W; W' W! n! p' U. N; w? V' y! Q; J, o! T? g? o! N' M? X? w! V. w? o' k. W. y, k; o' m! r; i, n. k, w; U? S? t; O' g' z. V. N? z, W? j! m? W! h; t! V' T! Z? R' w, w? y? y; O' w; r? q. G, V. x? n, Y; Q. s? S. G. f, s! U? l. o! i. L; Z' X! u. y, Q. q; Q, D; V. m. q. s? Y, U; p? u! q? h? O. W' y? Z! x! r. E, R, r' X' V, b. z, x! Q; y, g' j; j. q; W; v' X! J' H? i' o? n, Y. X! x? h? u; T? l! o? z. K' z' s; L? p? V' r. L? Y; V! V' S. t? Z' T' Y. s? i? Y! G? r; Y; T! h! K; M. k. U; A! V? R? C' x! X. M; z' V! w. N. T? Y' w? n, Z, Z? Y' R; V' f; V' I; t? X? Z; l? R, Q! Z. R. R, O. S! w; p' T. u? U! n, V, M. p? Q, O? q' t. B, k. u. H' T; T? S; Y! S! i? q! K' z' S! v; L. x; q; W? m? y, Z! x. y. j? N' R' I? r? V! Z; s, O? s; V, I, e? U' w! T? T! u; U! e? w? z; t! C! z? U, p' p! r. x; U! Z; u! j; T! X! N' F? n! P' t, X. s; q'\"\n",
    "banned = [\"m\",\"i\",\"s\",\"w\",\"y\",\"d\",\"q\",\"l\",\"a\",\"p\",\"n\",\"t\",\"u\",\"b\",\"o\",\"e\",\"f\",\"g\",\"c\",\"x\"]\n",
    "\n",
    "solu = Solution()\n",
    "solu.mostCommonWord(paragraph,banned)"
   ]
  },
  {
   "cell_type": "code",
   "execution_count": null,
   "metadata": {},
   "outputs": [],
   "source": []
  },
  {
   "cell_type": "code",
   "execution_count": 17,
   "metadata": {},
   "outputs": [
    {
     "data": {
      "text/plain": [
       "['a', 'a', 'b']"
      ]
     },
     "execution_count": 17,
     "metadata": {},
     "output_type": "execute_result"
    }
   ],
   "source": [
    "sent = 'a  a      b'\n",
    "sent.split()"
   ]
  },
  {
   "cell_type": "code",
   "execution_count": 21,
   "metadata": {},
   "outputs": [
    {
     "data": {
      "text/plain": [
       "'123 3'"
      ]
     },
     "execution_count": 21,
     "metadata": {},
     "output_type": "execute_result"
    }
   ],
   "source": [
    "sent = '123,3'\n",
    "i=3\n",
    "sent = sent[:i] + ' ' + sent[i+1:]\n",
    "sent"
   ]
  }
 ],
 "metadata": {
  "kernelspec": {
   "display_name": "Python3.6",
   "language": "python",
   "name": "python36"
  },
  "language_info": {
   "codemirror_mode": {
    "name": "ipython",
    "version": 3
   },
   "file_extension": ".py",
   "mimetype": "text/x-python",
   "name": "python",
   "nbconvert_exporter": "python",
   "pygments_lexer": "ipython3",
   "version": "3.6.12"
  }
 },
 "nbformat": 4,
 "nbformat_minor": 4
}
