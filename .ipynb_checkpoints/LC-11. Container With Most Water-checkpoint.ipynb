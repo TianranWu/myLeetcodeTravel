{
 "cells": [
  {
   "cell_type": "markdown",
   "metadata": {},
   "source": [
    "给你 n 个非负整数 a1，a2，...，an，每个数代表坐标中的一个点 (i, ai) 。在坐标内画 n 条垂直线，垂直线 i 的两个端点分别为 (i, ai) 和 (i, 0) 。找出其中的两条线，使得它们与 x 轴共同构成的容器可以容纳最多的水。\n",
    "\n",
    "说明：你不能倾斜容器。\n",
    "\n",
    "来源：力扣（LeetCode）\n",
    "链接：https://leetcode-cn.com/problems/container-with-most-water\n",
    "著作权归领扣网络所有。商业转载请联系官方授权，非商业转载请注明出处。\n",
    "\n",
    "\n",
    "输入：[1,8,6,2,5,4,8,3,7]\n",
    "输出：49 \n",
    "解释：图中垂直线代表输入数组 [1,8,6,2,5,4,8,3,7]。在此情况下，容器能够容纳水（表示为蓝色部分）的最大值为 49。\n",
    "示例 2：\n",
    "\n",
    "输入：height = [1,1]\n",
    "输出：1\n",
    "示例 3：\n",
    "\n",
    "输入：height = [4,3,2,1,4]\n",
    "输出：16\n",
    "示例 4：\n",
    "\n",
    "输入：height = [1,2,1]\n",
    "输出：2\n",
    " \n",
    "\n",
    "提示：\n",
    "\n",
    "n = height.length\n",
    "2 <= n <= 3 * 104\n",
    "0 <= height[i] <= 3 * 104\n",
    "\n",
    "来源：力扣（LeetCode）\n",
    "链接：https://leetcode-cn.com/problems/container-with-most-water\n",
    "著作权归领扣网络所有。商业转载请联系官方授权，非商业转载请注明出处。"
   ]
  },
  {
   "cell_type": "code",
   "execution_count": null,
   "metadata": {},
   "outputs": [],
   "source": [
    "# My reproduction of Correct Answer\n",
    "class Solution(object):\n",
    "    def maxArea(self, height):\n",
    "        \n",
    "        i = 0\n",
    "        j = len(height) - 1\n",
    "        \n",
    "        if height[i] > height[j]:\n",
    "            \n",
    "        \n",
    "        result = (j-i) * min(height[i], height[j])\n",
    "        \n",
    "        \n",
    "        return result\n",
    "\n",
    "\n",
    "\n"
   ]
  },
  {
   "cell_type": "code",
   "execution_count": 87,
   "metadata": {},
   "outputs": [],
   "source": [
    "# Correct answer\n",
    "class Solution(object):\n",
    "    def maxArea(self, height):\n",
    "        \"\"\"\n",
    "        :type height: List[int]\n",
    "        :rtype: int\n",
    "        \"\"\"\n",
    "        left = 0\n",
    "        right = len(height) - 1\n",
    "        maxArea = 0\n",
    "        while left < right:\n",
    "            b = right - left\n",
    "            if height[left] < height[right]:\n",
    "                h = height[left]\n",
    "                left += 1\n",
    "            else:\n",
    "                h = height[right]\n",
    "                right -= 1\n",
    "            area = b*h\n",
    "            if maxArea < area:\n",
    "                maxArea = area\n",
    "        return maxArea"
   ]
  },
  {
   "cell_type": "markdown",
   "metadata": {},
   "source": [
    "Use **dynamic programming** methods to solve this problem.\n",
    "\n",
    "The equation to area is:\n",
    "\n",
    "$area = (j-i) \\times \\min(height(i), height(j))$\n",
    "\n",
    "we want it to go higher during the movement of $j$ and $i$. \n",
    "\n",
    "Assume the initialization value of j and i, is the end value and the begining value. The the first part got its max.\n",
    "\n",
    "During the move, j-- and i++. \n",
    "\n",
    "So we except the second part be higher to get a larger area. \n",
    "Then, the one which got a lower height between i and j, will move.\n",
    "\n"
   ]
  },
  {
   "cell_type": "markdown",
   "metadata": {},
   "source": [
    "### My wrong answers ..."
   ]
  },
  {
   "cell_type": "code",
   "execution_count": 61,
   "metadata": {},
   "outputs": [],
   "source": [
    "class Solution:\n",
    "    def lengthOfLongestSubstring(self, s: str) -> int:\n",
    "        \n",
    "        water_col_list = []\n",
    "        for index in range(1,len(s)):\n",
    "            water_col_list.append(self.this_water_column(s,index))\n",
    "        \n",
    "        \n",
    "        max_water_col = max(water_col_list)\n",
    "            \n",
    "        \n",
    "        return max_water_col\n",
    "    \n",
    "    def left_findAreaMax(self,s,left,right):\n",
    "        \n",
    "        if right - left <= 1:\n",
    "            return left, s[left]\n",
    "        \n",
    "        area_max = 0 \n",
    "        this_index = 0\n",
    "        for i in range(left,right):\n",
    "            this_area = (right - i) * s[i]\n",
    "                \n",
    "            if this_area >= area_max:\n",
    "                area_max = this_area\n",
    "                this_index = i\n",
    "            else:\n",
    "                pass\n",
    "        \n",
    "        return this_index, area_max\n",
    "    \n",
    "    def right_findAreaMax(self,s,left,right,therhold=3*104+1):\n",
    "        \n",
    "        if right - left <= 1:\n",
    "            return left, s[left]\n",
    "        \n",
    "        area_max = 0 \n",
    "        this_index = 0\n",
    "        for i in range(left,right):\n",
    "            if s[i] > therhold:\n",
    "                this_area = (i - left + 1) * therhold\n",
    "            else:\n",
    "                this_area = (i - left + 1) * s[i]\n",
    "                \n",
    "            if this_area >= area_max:\n",
    "                area_max = this_area\n",
    "                this_index = i\n",
    "            else:\n",
    "                pass\n",
    "        \n",
    "        return this_index, area_max\n",
    "        \n",
    "        \n",
    "    \n",
    "    def findMax(self,s,left,right):\n",
    "        if right - left <= 1:\n",
    "            return left, s[left]\n",
    "        \n",
    "        this_max = 0 \n",
    "        this_index = 0\n",
    "        for i in range(left,right):\n",
    "            if this_max <= s[i]:\n",
    "                this_max = s[i]\n",
    "                this_index = i\n",
    "            else:\n",
    "                pass\n",
    "        return this_index, this_max\n",
    "    \n",
    "    \n",
    "    def this_water_column(self,s,index):\n",
    "        left_index, leftmax = self.findMax(s,0,index)\n",
    "        right_index, rightmax = self.findMax(s,index, len(s))\n",
    "        water_column = min(leftmax, rightmax) * (right_index - left_index)\n",
    "        print(leftmax, rightmax)\n",
    "        return water_column\n",
    "        \n",
    "        \n",
    "                "
   ]
  },
  {
   "cell_type": "code",
   "execution_count": null,
   "metadata": {},
   "outputs": [],
   "source": []
  },
  {
   "cell_type": "code",
   "execution_count": 62,
   "metadata": {},
   "outputs": [
    {
     "name": "stdout",
     "output_type": "stream",
     "text": [
      "4 4\n",
      "4 4\n",
      "4 4\n",
      "4 4\n"
     ]
    },
    {
     "data": {
      "text/plain": [
       "16"
      ]
     },
     "execution_count": 62,
     "metadata": {},
     "output_type": "execute_result"
    }
   ],
   "source": [
    "height = [4,3,2,1,4]\n",
    "\n",
    "solu = Solution()\n",
    "solu.lengthOfLongestSubstring(height)"
   ]
  },
  {
   "cell_type": "code",
   "execution_count": 30,
   "metadata": {},
   "outputs": [
    {
     "name": "stdout",
     "output_type": "stream",
     "text": [
      "1 2\n"
     ]
    },
    {
     "data": {
      "text/plain": [
       "1"
      ]
     },
     "execution_count": 30,
     "metadata": {},
     "output_type": "execute_result"
    }
   ],
   "source": [
    "solu.this_water_column(height,1)"
   ]
  },
  {
   "cell_type": "code",
   "execution_count": 73,
   "metadata": {},
   "outputs": [
    {
     "name": "stdout",
     "output_type": "stream",
     "text": [
      "(1, 2)\n",
      "(2, 1)\n",
      "1 2\n"
     ]
    },
    {
     "data": {
      "text/plain": [
       "1"
      ]
     },
     "execution_count": 73,
     "metadata": {},
     "output_type": "execute_result"
    }
   ],
   "source": [
    "height = [1,2,1]\n",
    "solu = Solution()\n",
    "print(solu.left_findAreaMax(height,0,2))\n",
    "leftindex, leftarea = solu.left_findAreaMax(height,0,2)\n",
    "print(solu.right_findAreaMax(height,2,3,height[leftindex]))\n",
    "rightindex,_ = solu.right_findAreaMax(height,2,3)\n",
    "print(leftindex,rightindex)\n",
    "(rightindex - leftindex)* min(height[rightindex],height[leftindex])\n"
   ]
  },
  {
   "cell_type": "code",
   "execution_count": 74,
   "metadata": {},
   "outputs": [
    {
     "name": "stdout",
     "output_type": "stream",
     "text": [
      "(0, 1)\n",
      "(2, 2)\n",
      "0 2\n"
     ]
    },
    {
     "data": {
      "text/plain": [
       "2"
      ]
     },
     "execution_count": 74,
     "metadata": {},
     "output_type": "execute_result"
    }
   ],
   "source": [
    "height = [1,2,1]\n",
    "solu = Solution()\n",
    "print(solu.left_findAreaMax(height,0,1))\n",
    "leftindex, leftarea = solu.left_findAreaMax(height,0,1)\n",
    "print(solu.right_findAreaMax(height,1,3,height[leftindex]))\n",
    "rightindex,_ = solu.right_findAreaMax(height,1,3)\n",
    "print(leftindex,rightindex)\n",
    "(rightindex - leftindex)* min(height[rightindex],height[leftindex])"
   ]
  },
  {
   "cell_type": "code",
   "execution_count": 81,
   "metadata": {},
   "outputs": [],
   "source": [
    "class Solution:\n",
    "    def lengthOfLongestSubstring(self, s: str) -> int:\n",
    "        \n",
    "        water_col_list = []\n",
    "        for index in range(1,len(s)):\n",
    "            water_col_list.append(self.this_water_column(s,index))\n",
    "        \n",
    "        \n",
    "        max_water_col = max(water_col_list)\n",
    "            \n",
    "        \n",
    "        return max_water_col\n",
    "    \n",
    "    def left_findAreaMax(self,s,left,right):\n",
    "        \n",
    "        if right - left <= 1:\n",
    "            return left, s[left]\n",
    "        \n",
    "        area_max = 0 \n",
    "        this_index = 0\n",
    "        for i in range(left,right):\n",
    "            this_area = (right - i) * s[i]\n",
    "                \n",
    "            if this_area >= area_max:\n",
    "                area_max = this_area\n",
    "                this_index = i\n",
    "            else:\n",
    "                pass\n",
    "        \n",
    "        return this_index, area_max\n",
    "    \n",
    "    def right_findAreaMax(self,s,left,right,therhold=3*104+1):\n",
    "        \n",
    "        if right - left <= 1:\n",
    "            return left, s[left]\n",
    "        \n",
    "        area_max = 0 \n",
    "        this_index = 0\n",
    "        for i in range(left,right):\n",
    "            if s[i] > therhold:\n",
    "                this_area = (i - left + 1) * therhold\n",
    "            else:\n",
    "                this_area = (i - left + 1) * s[i]\n",
    "                \n",
    "            if this_area >= area_max:\n",
    "                area_max = this_area\n",
    "                this_index = i\n",
    "            else:\n",
    "                pass\n",
    "        \n",
    "        return this_index, area_max\n",
    "\n",
    "    \n",
    "    def this_water_column(self,height,index):\n",
    "        \n",
    "        leftindex, _ = solu.left_findAreaMax(height,0,index)\n",
    "        rightindex, _ = solu.right_findAreaMax(height,index,len(height), height[leftindex])\n",
    "        \n",
    "        return (rightindex - leftindex)* min(height[rightindex],height[leftindex])\n",
    "        \n",
    "        \n",
    "                "
   ]
  },
  {
   "cell_type": "code",
   "execution_count": 83,
   "metadata": {},
   "outputs": [
    {
     "data": {
      "text/plain": [
       "54"
      ]
     },
     "execution_count": 83,
     "metadata": {},
     "output_type": "execute_result"
    }
   ],
   "source": [
    "height = [4,3,2,1,4]\n",
    "height = [1,2,1] \n",
    "height = [5,2,12,1,5,3,4,11,9,4]\n",
    "\n",
    "solu = Solution()\n",
    "solu.lengthOfLongestSubstring(height)"
   ]
  },
  {
   "cell_type": "code",
   "execution_count": 86,
   "metadata": {},
   "outputs": [
    {
     "name": "stdout",
     "output_type": "stream",
     "text": [
      "(0, 15)\n",
      "(7, 55)\n",
      "0 7\n"
     ]
    },
    {
     "data": {
      "text/plain": [
       "35"
      ]
     },
     "execution_count": 86,
     "metadata": {},
     "output_type": "execute_result"
    }
   ],
   "source": [
    "print(solu.left_findAreaMax(height,0,3))\n",
    "leftindex, leftarea = solu.left_findAreaMax(height,0,3)\n",
    "\n",
    "print(solu.right_findAreaMax(height,3,len(height),12))\n",
    "rightindex,_ = solu.right_findAreaMax(height,3,len(height),12)\n",
    "print(leftindex,rightindex)\n",
    "(rightindex - leftindex)* min(height[rightindex],height[leftindex])"
   ]
  }
 ],
 "metadata": {
  "kernelspec": {
   "display_name": "Python3.6",
   "language": "python",
   "name": "python36"
  },
  "language_info": {
   "codemirror_mode": {
    "name": "ipython",
    "version": 3
   },
   "file_extension": ".py",
   "mimetype": "text/x-python",
   "name": "python",
   "nbconvert_exporter": "python",
   "pygments_lexer": "ipython3",
   "version": "3.6.12"
  }
 },
 "nbformat": 4,
 "nbformat_minor": 4
}
