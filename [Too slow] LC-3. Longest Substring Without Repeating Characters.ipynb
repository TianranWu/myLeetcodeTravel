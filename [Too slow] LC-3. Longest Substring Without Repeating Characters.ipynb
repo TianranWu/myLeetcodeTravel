{
 "cells": [
  {
   "cell_type": "markdown",
   "metadata": {},
   "source": [
    "给定一个字符串，请你找出其中不含有重复字符的 最长子串 的长度。\n",
    "\n",
    " \n",
    "\n",
    "示例 1:\n",
    "\n",
    "输入: s = \"abcabcbb\"\n",
    "输出: 3 \n",
    "解释: 因为无重复字符的最长子串是 \"abc\"，所以其长度为 3。\n",
    "示例 2:\n",
    "\n",
    "输入: s = \"bbbbb\"\n",
    "输出: 1\n",
    "解释: 因为无重复字符的最长子串是 \"b\"，所以其长度为 1。\n",
    "示例 3:\n",
    "\n",
    "输入: s = \"pwwkew\"\n",
    "输出: 3\n",
    "解释: 因为无重复字符的最长子串是 \"wke\"，所以其长度为 3。\n",
    "     请注意，你的答案必须是 子串 的长度，\"pwke\" 是一个子序列，不是子串。\n",
    "示例 4:\n",
    "\n",
    "输入: s = \"\"\n",
    "输出: 0\n",
    " \n",
    "\n",
    "提示：\n",
    "\n",
    "0 <= s.length <= 5 * 104\n",
    "s 由英文字母、数字、符号和空格组成\n",
    "\n",
    "来源：力扣（LeetCode）\n",
    "链接：https://leetcode-cn.com/problems/longest-substring-without-repeating-characters\n",
    "著作权归领扣网络所有。商业转载请联系官方授权，非商业转载请注明出处。"
   ]
  },
  {
   "cell_type": "code",
   "execution_count": 37,
   "metadata": {},
   "outputs": [],
   "source": [
    "class Solution:\n",
    "    def lengthOfLongestSubstring(self, s: str) -> int:\n",
    "        \n",
    "        length = len(s)\n",
    "        if length == 0:\n",
    "            return 0\n",
    "        \n",
    "        if length == 1:\n",
    "            return 1\n",
    "        \n",
    "        setdif = set(s)\n",
    "        numdif = len(setdif)\n",
    "        if numdif == 1:\n",
    "            return 1\n",
    "        \n",
    "        test_len = numdif\n",
    "        while(test_len > 1):\n",
    "            \n",
    "            print(test_len,self.word_inSet(s,test_len))\n",
    "            \n",
    "            if self.word_inSet(s,test_len):\n",
    "                return test_len\n",
    "            test_len -= 1\n",
    "            \n",
    "            \n",
    "    def word_inSet(self, string, test_len):\n",
    "        \n",
    "        for i in range(len(string) - test_len + 1):\n",
    "            \n",
    "            print(string[i:i+test_len])\n",
    "            \n",
    "            cont = []\n",
    "            for element in string[i:i+test_len]:\n",
    "                if element in cont:\n",
    "                    break\n",
    "                else:\n",
    "                    cont.append(element)\n",
    "            \n",
    "            if len(cont) == test_len:\n",
    "                return True\n",
    "        return False\n",
    "            \n",
    "        \n",
    "            \n",
    "            \n",
    "            \n",
    "            \n",
    "#             print(i,i+test_len)\n",
    "#             print(string[i:i+test_len])\n",
    "        \n",
    "        \n",
    "        \n",
    "        "
   ]
  },
  {
   "cell_type": "code",
   "execution_count": 38,
   "metadata": {},
   "outputs": [
    {
     "data": {
      "text/plain": [
       "1"
      ]
     },
     "execution_count": 38,
     "metadata": {},
     "output_type": "execute_result"
    }
   ],
   "source": [
    "s = \"bbbbb\" \n",
    "# s = \"pwwkew\"\n",
    "# s = \"abcabcbb\"\n",
    "solu = Solution()\n",
    "solu.lengthOfLongestSubstring(s)\n",
    "# solu.word_inSet(s,3)"
   ]
  },
  {
   "cell_type": "code",
   "execution_count": 58,
   "metadata": {},
   "outputs": [],
   "source": [
    "class Solution:\n",
    "    def lengthOfLongestSubstring(self, s):\n",
    "        \"\"\"\n",
    "        :type s: str\n",
    "        :rtype: int\n",
    "        \"\"\"\n",
    "        if len(s)==1:\n",
    "            return 1\n",
    "        \n",
    "        diction = {}\n",
    "        i, ans = 0, 0\n",
    "        for j in range(len(s)):\n",
    "            if s[j] in diction:\n",
    "                print('j={}. elemts {} in dictionary, diction= {}, i = {}'.format(j,s[j],diction[s[j]],i))\n",
    "#                 i = max(diction[s[j]], i)\n",
    "                # most_right_same_element\n",
    "                i = max(diction[s[j]]+1,i)\n",
    "                \n",
    "            ans = max(ans, j - i +1)\n",
    "            \n",
    "            print('length from {}-{}: {}'.format(i,j,j-i+1))\n",
    "            diction[s[j]] = j\n",
    "            print('update!, diction[{}]={}'.format(s[j],j))\n",
    "            print('*'*20)\n",
    "        return ans;"
   ]
  },
  {
   "cell_type": "code",
   "execution_count": 61,
   "metadata": {},
   "outputs": [
    {
     "name": "stdout",
     "output_type": "stream",
     "text": [
      "length from 0-0: 1\n",
      "update!, diction[b]=0\n",
      "********************\n",
      "j=1. elemts b in dictionary, diction= 0, i = 0\n",
      "length from 1-1: 1\n",
      "update!, diction[b]=1\n",
      "********************\n",
      "j=2. elemts b in dictionary, diction= 1, i = 1\n",
      "length from 2-2: 1\n",
      "update!, diction[b]=2\n",
      "********************\n",
      "j=3. elemts b in dictionary, diction= 2, i = 2\n",
      "length from 3-3: 1\n",
      "update!, diction[b]=3\n",
      "********************\n",
      "j=4. elemts b in dictionary, diction= 3, i = 3\n",
      "length from 4-4: 1\n",
      "update!, diction[b]=4\n",
      "********************\n"
     ]
    },
    {
     "data": {
      "text/plain": [
       "1"
      ]
     },
     "execution_count": 61,
     "metadata": {},
     "output_type": "execute_result"
    }
   ],
   "source": [
    "s = \"bbbbb\" \n",
    "# s = 'a'\n",
    "# s = 'ab'\n",
    "# s = \"pwwkew\"\n",
    "# s = \"abcabcbb\"\n",
    "solu = Solution()\n",
    "solu.lengthOfLongestSubstring(s)\n",
    "# solu.word_inSet(s,3)"
   ]
  },
  {
   "cell_type": "code",
   "execution_count": null,
   "metadata": {},
   "outputs": [],
   "source": []
  }
 ],
 "metadata": {
  "kernelspec": {
   "display_name": "Python3.6",
   "language": "python",
   "name": "python36"
  },
  "language_info": {
   "codemirror_mode": {
    "name": "ipython",
    "version": 3
   },
   "file_extension": ".py",
   "mimetype": "text/x-python",
   "name": "python",
   "nbconvert_exporter": "python",
   "pygments_lexer": "ipython3",
   "version": "3.6.12"
  }
 },
 "nbformat": 4,
 "nbformat_minor": 4
}
