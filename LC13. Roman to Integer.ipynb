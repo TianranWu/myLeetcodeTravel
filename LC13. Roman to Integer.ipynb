{
 "cells": [
  {
   "cell_type": "markdown",
   "source": [
    "Example 1:\n",
    "\n",
    "Input: s = \"III\"\n",
    "Output: 3\n",
    "Example 2:\n",
    "\n",
    "Input: s = \"IV\"\n",
    "Output: 4\n",
    "Example 3:\n",
    "\n",
    "Input: s = \"IX\"\n",
    "Output: 9\n",
    "Example 4:\n",
    "\n",
    "Input: s = \"LVIII\"\n",
    "Output: 58\n",
    "Explanation: L = 50, V= 5, III = 3.\n",
    "Example 5:\n",
    "\n",
    "Input: s = \"MCMXCIV\"\n",
    "Output: 1994\n",
    "Explanation: M = 1000, CM = 900, XC = 90 and IV = 4.\n",
    "\n",
    "来源：力扣（LeetCode）\n",
    "链接：https://leetcode-cn.com/problems/roman-to-integer\n",
    "著作权归领扣网络所有。商业转载请联系官方授权，非商业转载请注明出处。"
   ],
   "metadata": {}
  },
  {
   "cell_type": "code",
   "execution_count": 12,
   "source": [
    "class Solution_official(object):\n",
    "    def romanToInt(self, s):\n",
    "        roman = {'M': 1000,'D': 500 ,'C': 100,'L': 50,'X': 10,'V': 5,'I': 1}\n",
    "        z = 0\n",
    "        for i in range(0, len(s) - 1):\n",
    "            if roman[s[i]] > roman[s[i+1]]:\n",
    "                z += roman[s[i]]\n",
    "            else:\n",
    "                z -= roman[s[i]]\n",
    "        return z + roman[s[-1]]\n",
    "\n",
    "class Solution(object):\n",
    "    def romanToInt(self, s):\n",
    "        \"\"\"\n",
    "        :type s: str\n",
    "        :rtype: int\n",
    "        \"\"\"\n",
    "        diction = {'I':1, 'V':5, 'X':10,'L':50,'C':100,'D':500, 'M':1000}\n",
    "        \n",
    "        index = 0\n",
    "        count = 0\n",
    "        while(index < len(s)):\n",
    "            \n",
    "            \n",
    "            this_num = diction[s[index]]\n",
    "            if index == len(s)-1:\n",
    "                pass\n",
    "            else:\n",
    "                next_num = diction[s[index+1]]\n",
    "            \n",
    "                if this_num < next_num:\n",
    "                    if next_num/this_num == 10:\n",
    "                        print('into 9', this_num)\n",
    "                        count += this_num * 9\n",
    "\n",
    "                    else:\n",
    "                        count += this_num * 4\n",
    "                    index += 2\n",
    "                    continue\n",
    "            \n",
    "            count += this_num\n",
    "            index += 1\n",
    "            print(count)\n",
    "        \n",
    "        \n",
    "        print(count)\n",
    "        \n",
    "        \n",
    "        \n",
    "\n",
    "solu = Solution()\n",
    "solu.romanToInt(\"III\")\n",
    "solu.romanToInt('IV')\n",
    "solu.romanToInt('IX')\n",
    "solu.romanToInt('LVIII')\n",
    "solu.romanToInt('MCMXCIV')\n",
    "print('*'*20)\n",
    "solu.romanToInt(\"MDCXCV\")\n",
    "# 1710\n",
    "# 1695 = M1000 + D500 + C100 + XC90 + 5\n"
   ],
   "outputs": [
    {
     "output_type": "stream",
     "name": "stdout",
     "text": [
      "1\n",
      "2\n",
      "3\n",
      "3\n",
      "4\n",
      "into 9 1\n",
      "9\n",
      "50\n",
      "55\n",
      "56\n",
      "57\n",
      "58\n",
      "58\n",
      "1000\n",
      "into 9 100\n",
      "into 9 10\n",
      "1994\n",
      "********************\n",
      "1000\n",
      "1500\n",
      "1600\n",
      "into 9 10\n",
      "1695\n",
      "1695\n"
     ]
    }
   ],
   "metadata": {}
  },
  {
   "cell_type": "markdown",
   "source": [
    "这题懂了就非常简单。首先建立一个HashMap来映射符号和值，然后对字符串从左到右来，如果当前字符代表的值不小于其右边，就加上该值；否则就减去该值。以此类推到最左边的数，最终得到的结果即是答案x"
   ],
   "metadata": {}
  },
  {
   "cell_type": "code",
   "execution_count": 16,
   "source": [
    "class Solution(object):\n",
    "    def romanToInt(self, s):\n",
    "        \"\"\"\n",
    "        :type s: str\n",
    "        :rtype: int\n",
    "        \"\"\"\n",
    "        diction = {'I':1, 'V':5, 'X':10,'L':50,'C':100,'D':500, 'M':1000}\n",
    "        \n",
    "        index = 0\n",
    "        count = 0\n",
    "        while(index < len(s)-1):\n",
    "            \n",
    "            this_num = diction[s[index]]\n",
    "            if this_num < diction[s[index+1]]:\n",
    "                count -= this_num\n",
    "            else:\n",
    "                count += this_num\n",
    "            index += 1\n",
    "        \n",
    "        return count + diction[s[index]]\n",
    "        \n",
    "        \n",
    "        \n",
    "\n",
    "solu = Solution()\n",
    "solu.romanToInt(\"III\")\n",
    "solu.romanToInt('IV')\n",
    "solu.romanToInt('IX')\n",
    "solu.romanToInt('LVIII')\n",
    "solu.romanToInt('MCMXCIV')\n",
    "print('*'*20)\n",
    "solu.romanToInt(\"MDCXCV\")\n",
    "# 1710\n",
    "# 1695 = M1000 + D500 + C100 + XC90 + 5\n"
   ],
   "outputs": [
    {
     "output_type": "stream",
     "name": "stdout",
     "text": [
      "********************\n"
     ]
    },
    {
     "output_type": "execute_result",
     "data": {
      "text/plain": [
       "1695"
      ]
     },
     "metadata": {},
     "execution_count": 16
    }
   ],
   "metadata": {}
  }
 ],
 "metadata": {
  "kernelspec": {
   "display_name": "Python3.6",
   "language": "python",
   "name": "python36"
  },
  "language_info": {
   "codemirror_mode": {
    "name": "ipython",
    "version": 3
   },
   "file_extension": ".py",
   "mimetype": "text/x-python",
   "name": "python",
   "nbconvert_exporter": "python",
   "pygments_lexer": "ipython3",
   "version": "3.6.12"
  }
 },
 "nbformat": 4,
 "nbformat_minor": 4
}