{
 "cells": [
  {
   "cell_type": "code",
   "execution_count": 46,
   "metadata": {},
   "outputs": [],
   "source": [
    "# Definition for singly-linked list.\n",
    "class ListNode(object):\n",
    "    def __init__(self, val=0, next=None):\n",
    "        self.val = val\n",
    "        self.next = next\n",
    "\n",
    "class Solution(object):\n",
    "    def removeNthFromEnd(self, head, n):\n",
    "        \"\"\"\n",
    "        :type head: ListNode\n",
    "        :type n: int\n",
    "        :rtype: ListNode\n",
    "        \"\"\"\n",
    "\n",
    "        back = head\n",
    "        ahead = head\n",
    "        print(id(back),id(head))\n",
    "        \n",
    "        temp = head\n",
    "        while(temp):\n",
    "            print(id(temp))\n",
    "            temp = temp.next\n",
    "\n",
    "        for _ in range(n):\n",
    "            if ahead.next:\n",
    "                ahead = ahead.next\n",
    "                print('ahead',id(ahead))\n",
    "            else:\n",
    "                return head.next\n",
    "\n",
    "        while(ahead.next):\n",
    "            ahead = ahead.next\n",
    "            back = back.next\n",
    "        \n",
    "        back.next = back.next.next\n",
    "        return head"
   ]
  },
  {
   "cell_type": "code",
   "execution_count": 47,
   "metadata": {},
   "outputs": [
    {
     "name": "stdout",
     "output_type": "stream",
     "text": [
      "140513914107840 140513914107840\n",
      "140513914107840\n",
      "140513914109376\n",
      "140513914107456\n",
      "ahead 140513914109376\n",
      "ahead 140513914107456\n"
     ]
    },
    {
     "data": {
      "text/plain": [
       "4342160120"
      ]
     },
     "execution_count": 47,
     "metadata": {},
     "output_type": "execute_result"
    }
   ],
   "source": [
    "head = ListNode(1,None)\n",
    "head.next = ListNode(2,None)\n",
    "head.next.next = ListNode(3,None)\n",
    "head.next.next.next = None\n",
    "\n",
    "solu = Solution()\n",
    "result = solu.removeNthFromEnd(head,2)\n",
    "\n",
    "# print(result.val)\n",
    "# print(result.next.val)\n",
    "\n",
    "id(head.next.next)"
   ]
  }
 ],
 "metadata": {
  "kernelspec": {
   "display_name": "Python 3",
   "language": "python",
   "name": "python3"
  },
  "language_info": {
   "codemirror_mode": {
    "name": "ipython",
    "version": 3
   },
   "file_extension": ".py",
   "mimetype": "text/x-python",
   "name": "python",
   "nbconvert_exporter": "python",
   "pygments_lexer": "ipython3",
   "version": "3.8.5"
  }
 },
 "nbformat": 4,
 "nbformat_minor": 4
}
