{
 "cells": [
  {
   "cell_type": "markdown",
   "metadata": {},
   "source": [
    "给你一个 32 位的有符号整数 x ，返回将 x 中的数字部分反转后的结果。\n",
    "\n",
    "如果反转后整数超过 32 位的有符号整数的范围 [−231,  231 − 1] ，就返回 0。\n",
    "\n",
    "假设环境不允许存储 64 位整数（有符号或无符号）。\n",
    " \n",
    "\n",
    "示例 1：\n",
    "\n",
    "输入：x = 123\n",
    "输出：321\n",
    "示例 2：\n",
    "\n",
    "输入：x = -123\n",
    "输出：-321\n",
    "示例 3：\n",
    "\n",
    "输入：x = 120\n",
    "输出：21\n",
    "示例 4：\n",
    "\n",
    "输入：x = 0\n",
    "输出：0\n",
    " \n",
    "\n",
    "提示：\n",
    "\n",
    "-231 <= x <= 231 - 1\n",
    "通过次数657,873提交次数1,878,963\n",
    "\n",
    "来源：力扣（LeetCode）\n",
    "链接：https://leetcode-cn.com/problems/reverse-integer\n",
    "著作权归领扣网络所有。商业转载请联系官方授权，非商业转载请注明出处。"
   ]
  },
  {
   "cell_type": "code",
   "execution_count": 40,
   "metadata": {},
   "outputs": [],
   "source": [
    "class Solution(object):\n",
    "    def reverse(self, x):\n",
    "        \"\"\"\n",
    "        :type x: int\n",
    "        :rtype: int\n",
    "        \"\"\"\n",
    "        \n",
    "        if x == 0:\n",
    "            return 0\n",
    "        \n",
    "        num = []\n",
    "        count = 10\n",
    "        if x > 0:\n",
    "            while(count>=0):\n",
    "                temp = x // 10 ** count\n",
    "                num.append(temp)\n",
    "                x -= temp * 10 ** count\n",
    "                count = count - 1\n",
    "            \n",
    "            rev = 0\n",
    "            new_count = 0\n",
    "            for i in range(len(num)):\n",
    "                if num[i] == 0 and new_count == 0:\n",
    "                    continue\n",
    "                else:\n",
    "                    rev += num[i] * 10 ** new_count\n",
    "                    new_count+=1\n",
    "                    \n",
    "        \n",
    "        else:\n",
    "            x = -x\n",
    "            \n",
    "            while(count>=0):\n",
    "                temp = x // 10 ** count\n",
    "                num.append(temp)\n",
    "                x -= temp * 10 ** count\n",
    "                count = count - 1\n",
    "            \n",
    "            rev = 0\n",
    "            new_count = 0\n",
    "            for i in range(len(num)):\n",
    "                if num[i] == 0 and new_count == 0:\n",
    "                    continue\n",
    "                else:\n",
    "                    rev += num[i] * 10 ** new_count\n",
    "                    new_count+=1\n",
    "                    \n",
    "            rev = -rev\n",
    "        print(rev)\n",
    "        \n",
    "        \n",
    "        if rev >2**31-1 or rev < -2**31:\n",
    "            return 0\n",
    "        else:\n",
    "            return rev\n",
    "        \n",
    "        \n",
    "        "
   ]
  },
  {
   "cell_type": "code",
   "execution_count": 44,
   "metadata": {},
   "outputs": [
    {
     "name": "stdout",
     "output_type": "stream",
     "text": [
      "2147483649\n"
     ]
    },
    {
     "data": {
      "text/plain": [
       "0"
      ]
     },
     "execution_count": 44,
     "metadata": {},
     "output_type": "execute_result"
    }
   ],
   "source": [
    "solu = Solution()\n",
    "solu.reverse(9463847412)"
   ]
  },
  {
   "cell_type": "markdown",
   "metadata": {},
   "source": [
    "别人的题解：use string"
   ]
  },
  {
   "cell_type": "code",
   "execution_count": 45,
   "metadata": {},
   "outputs": [],
   "source": [
    "class Solution(object):\n",
    "    def reverse(self, x):\n",
    "        \"\"\"\n",
    "        :type x: int\n",
    "        :rtype: int\n",
    "        \"\"\"\n",
    "        x = str(x)\n",
    "        a = int(x[::-1]) if not x.startswith(\"-\") else -int(x[1:][::-1])\n",
    "        return 0 if a < -2**31 or a > 2**31 -1 else a"
   ]
  },
  {
   "cell_type": "code",
   "execution_count": null,
   "metadata": {},
   "outputs": [],
   "source": []
  },
  {
   "cell_type": "code",
   "execution_count": null,
   "metadata": {},
   "outputs": [],
   "source": []
  },
  {
   "cell_type": "code",
   "execution_count": 13,
   "metadata": {},
   "outputs": [
    {
     "data": {
      "text/plain": [
       "123"
      ]
     },
     "execution_count": 13,
     "metadata": {},
     "output_type": "execute_result"
    }
   ],
   "source": [
    "123 // 1\n"
   ]
  },
  {
   "cell_type": "code",
   "execution_count": null,
   "metadata": {},
   "outputs": [],
   "source": []
  },
  {
   "cell_type": "code",
   "execution_count": null,
   "metadata": {},
   "outputs": [],
   "source": []
  },
  {
   "cell_type": "code",
   "execution_count": null,
   "metadata": {},
   "outputs": [],
   "source": [
    "123 - 100"
   ]
  },
  {
   "cell_type": "code",
   "execution_count": 43,
   "metadata": {},
   "outputs": [
    {
     "data": {
      "text/plain": [
       "2147483649"
      ]
     },
     "execution_count": 43,
     "metadata": {},
     "output_type": "execute_result"
    }
   ],
   "source": [
    "2 ** 31 +1 "
   ]
  },
  {
   "cell_type": "code",
   "execution_count": 16,
   "metadata": {},
   "outputs": [
    {
     "data": {
      "text/plain": [
       "2"
      ]
     },
     "execution_count": 16,
     "metadata": {},
     "output_type": "execute_result"
    }
   ],
   "source": [
    "2147483646 // 1000000000"
   ]
  },
  {
   "cell_type": "code",
   "execution_count": 17,
   "metadata": {},
   "outputs": [
    {
     "data": {
      "text/plain": [
       "147483646"
      ]
     },
     "execution_count": 17,
     "metadata": {},
     "output_type": "execute_result"
    }
   ],
   "source": [
    "2147483646 - 2000000000"
   ]
  },
  {
   "cell_type": "code",
   "execution_count": 19,
   "metadata": {},
   "outputs": [
    {
     "data": {
      "text/plain": [
       "1"
      ]
     },
     "execution_count": 19,
     "metadata": {},
     "output_type": "execute_result"
    }
   ],
   "source": [
    "147483646 // 100000000"
   ]
  }
 ],
 "metadata": {
  "kernelspec": {
   "display_name": "Python 3",
   "language": "python",
   "name": "python3"
  },
  "language_info": {
   "codemirror_mode": {
    "name": "ipython",
    "version": 3
   },
   "file_extension": ".py",
   "mimetype": "text/x-python",
   "name": "python",
   "nbconvert_exporter": "python",
   "pygments_lexer": "ipython3",
   "version": "3.8.5"
  }
 },
 "nbformat": 4,
 "nbformat_minor": 4
}
