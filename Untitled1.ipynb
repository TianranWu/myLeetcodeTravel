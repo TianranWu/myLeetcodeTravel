{
 "cells": [
  {
   "cell_type": "code",
   "execution_count": 146,
   "metadata": {},
   "outputs": [],
   "source": [
    "import math\n",
    "class Solution:\n",
    "    import math\n",
    "    global result_dict\n",
    "    result_dict = {1:[0,0], 2:[1,1], 3:[2,1], 4:[4,2]}\n",
    "\n",
    "    \n",
    "\n",
    "    def cost(self, n):\n",
    "        \n",
    "        if n in result_dict:\n",
    "            return result_dict[n][0]\n",
    "        \n",
    "        if n <= 2: \n",
    "            return n-1;\n",
    "        \n",
    "        if n == 3:\n",
    "            return 2;\n",
    "\n",
    "        if n==4:\n",
    "            return 4\n",
    "\n",
    "        \n",
    "\n",
    "# 6 3 5 \n",
    "\n",
    "        if n >=5:\n",
    "            # index = 1\n",
    "            # re = n - index + self.cost(n - index - 1)\n",
    "            # return re\n",
    "\n",
    "            index = 1\n",
    "            min_re = 2 ** 31\n",
    "            while(index <= n//2+1):\n",
    "                # print('%%%%%%%%%%')\n",
    "                partition = n - index\n",
    "                # print('The first guess:', partition)\n",
    "                left_re = partition + self.cost(partition- 1)\n",
    "                # print('The left side guess need cost:',left_re)\n",
    "                # back_num = index\n",
    "#                 guess_time = math.floor(math.log2(index))\n",
    "                # print(guess_time)\n",
    "                right_re = partition + result_dict[index][1] * partition + self.cost(index) \n",
    "                # print(partition,guess_time * index,self.cost(index) )\n",
    "                # print('The right side guess need cost:',right_re)\n",
    "                \n",
    "                if n==62 and index == 15:\n",
    "                    print('partition:',partition)\n",
    "                    print('This index is {}, its right_result is {}, left result is {}, final'.format(index,\n",
    "                                                                                                      right_re,\n",
    "                                                                                                     left_re))\n",
    "\n",
    "                if right_re > left_re:\n",
    "                    flag = 'right'\n",
    "                    temp = right_re\n",
    "#                     final_guesstime = result_dict[index][1]+1\n",
    "                    \n",
    "                else:\n",
    "                    flag = 'left'\n",
    "                    temp = left_re\n",
    "#                     final_guesstime = result_dict[partition- 1][1]+1\n",
    "\n",
    "                if temp < min_re:\n",
    "                    min_re = temp\n",
    "                    best_index = index\n",
    "                    best_right_re = right_re\n",
    "                    best_left_re = left_re\n",
    "                    best_flag = flag\n",
    "                    \n",
    "                    \n",
    "                    left_guesstime = result_dict[partition- 1][1]\n",
    "                    right_guesstime = result_dict[index][1]\n",
    "                    final_guesstime = max(left_guesstime,right_guesstime)+1\n",
    "                        \n",
    "                    \n",
    "                    \n",
    "                \n",
    "                index += 1\n",
    "            \n",
    "            result_dict[n] = [min_re,final_guesstime]\n",
    "            \n",
    "            \n",
    "            \n",
    "            print('This N is {}, this index is {}, its right_result is {}, left result is {}, final chose {}'.format(n,\n",
    "                                                                                                      best_index,\n",
    "                                                                                                      best_right_re,\n",
    "                                                                                                     best_left_re,\n",
    "                                                                                                     best_flag\n",
    "                                                                                                     ))\n",
    "            index += 1\n",
    "\n",
    "            return min_re\n",
    "\n",
    "    def getMoneyAmount(self, n: int) -> int:\n",
    "        \"\"\"\n",
    "        :type n: int\n",
    "        :rtype: int\n",
    "        \"\"\"\n",
    "\n",
    "        \n",
    "\n",
    "        \n",
    "\n",
    "        result = self.cost(n)\n",
    "\n",
    "        print(result_dict)\n",
    "\n",
    "        \n",
    "            \n",
    "             \n",
    "        return result\n",
    "\n",
    "\n",
    "    \n",
    "            \n",
    "            \n",
    "             \n",
    "            \n",
    "\n",
    "\n",
    "        return 20"
   ]
  },
  {
   "cell_type": "code",
   "execution_count": 37,
   "metadata": {},
   "outputs": [],
   "source": []
  },
  {
   "cell_type": "code",
   "execution_count": 147,
   "metadata": {},
   "outputs": [
    {
     "name": "stdout",
     "output_type": "stream",
     "text": [
      "This N is 6, this index is 3, its right_result is 8, left result is 4, final chose right\n",
      "This N is 5, this index is 1, its right_result is 4, left result is 6, final chose left\n",
      "This N is 8, this index is 3, its right_result is 12, left result is 9, final chose right\n",
      "This N is 7, this index is 3, its right_result is 10, left result is 6, final chose right\n",
      "This N is 10, this index is 3, its right_result is 16, left result is 15, final chose right\n",
      "This N is 9, this index is 3, its right_result is 14, left result is 12, final chose right\n",
      "This N is 12, this index is 3, its right_result is 20, left result is 21, final chose left\n",
      "This N is 11, this index is 3, its right_result is 18, left result is 18, final chose left\n",
      "This N is 14, this index is 3, its right_result is 24, left result is 27, final chose left\n",
      "This N is 13, this index is 3, its right_result is 22, left result is 24, final chose left\n",
      "This N is 16, this index is 3, its right_result is 28, left result is 34, final chose left\n",
      "This N is 15, this index is 3, its right_result is 26, left result is 30, final chose left\n",
      "This N is 18, this index is 3, its right_result is 32, left result is 42, final chose left\n",
      "This N is 17, this index is 3, its right_result is 30, left result is 38, final chose left\n",
      "This N is 20, this index is 7, its right_result is 49, left result is 34, final chose right\n",
      "This N is 19, this index is 3, its right_result is 34, left result is 46, final chose left\n",
      "This N is 22, this index is 7, its right_result is 55, left result is 42, final chose right\n",
      "This N is 21, this index is 7, its right_result is 52, left result is 38, final chose right\n",
      "This N is 24, this index is 7, its right_result is 61, left result is 51, final chose right\n",
      "This N is 23, this index is 7, its right_result is 58, left result is 46, final chose right\n",
      "This N is 26, this index is 7, its right_result is 67, left result is 61, final chose right\n",
      "This N is 25, this index is 7, its right_result is 64, left result is 56, final chose right\n",
      "This N is 28, this index is 7, its right_result is 73, left result is 70, final chose right\n",
      "This N is 27, this index is 7, its right_result is 70, left result is 66, final chose right\n",
      "This N is 30, this index is 7, its right_result is 79, left result is 78, final chose right\n",
      "This N is 29, this index is 7, its right_result is 76, left result is 74, final chose right\n",
      "This N is 32, this index is 7, its right_result is 85, left result is 86, final chose left\n",
      "This N is 31, this index is 7, its right_result is 82, left result is 82, final chose left\n",
      "This N is 34, this index is 7, its right_result is 91, left result is 94, final chose left\n",
      "This N is 33, this index is 7, its right_result is 88, left result is 90, final chose left\n",
      "This N is 36, this index is 7, its right_result is 97, left result is 102, final chose left\n",
      "This N is 35, this index is 7, its right_result is 94, left result is 98, final chose left\n",
      "This N is 38, this index is 7, its right_result is 103, left result is 110, final chose left\n",
      "This N is 37, this index is 7, its right_result is 100, left result is 106, final chose left\n",
      "This N is 40, this index is 7, its right_result is 109, left result is 119, final chose left\n",
      "This N is 39, this index is 7, its right_result is 106, left result is 114, final chose left\n",
      "This N is 42, this index is 7, its right_result is 115, left result is 129, final chose left\n",
      "This N is 41, this index is 7, its right_result is 112, left result is 124, final chose left\n",
      "This N is 44, this index is 7, its right_result is 121, left result is 139, final chose left\n",
      "This N is 43, this index is 7, its right_result is 118, left result is 134, final chose left\n",
      "This N is 46, this index is 7, its right_result is 127, left result is 149, final chose left\n",
      "This N is 45, this index is 7, its right_result is 124, left result is 144, final chose left\n",
      "This N is 48, this index is 7, its right_result is 133, left result is 160, final chose left\n",
      "This N is 47, this index is 7, its right_result is 130, left result is 154, final chose left\n",
      "This N is 50, this index is 7, its right_result is 139, left result is 172, final chose left\n",
      "This N is 49, this index is 7, its right_result is 136, left result is 166, final chose left\n",
      "This N is 52, this index is 11, its right_result is 182, left result is 160, final chose right\n",
      "This N is 51, this index is 7, its right_result is 142, left result is 178, final chose left\n",
      "This N is 54, this index is 11, its right_result is 190, left result is 172, final chose right\n",
      "This N is 53, this index is 11, its right_result is 186, left result is 166, final chose right\n",
      "This N is 56, this index is 11, its right_result is 198, left result is 184, final chose right\n",
      "This N is 55, this index is 11, its right_result is 194, left result is 178, final chose right\n",
      "This N is 58, this index is 11, its right_result is 206, left result is 196, final chose right\n",
      "This N is 57, this index is 11, its right_result is 202, left result is 190, final chose right\n",
      "This N is 60, this index is 11, its right_result is 214, left result is 209, final chose right\n",
      "This N is 59, this index is 11, its right_result is 210, left result is 202, final chose right\n",
      "partition: 47\n",
      "This index is 15, its right_result is 265, left result is 196, final\n",
      "This N is 62, this index is 11, its right_result is 222, left result is 223, final chose left\n",
      "{1: [0, 0], 2: [1, 1], 3: [2, 1], 4: [4, 2], 6: [8, 2], 5: [6, 2], 8: [12, 3], 7: [10, 2], 10: [16, 3], 9: [14, 3], 12: [21, 4], 11: [18, 3], 14: [27, 4], 13: [24, 4], 16: [34, 5], 15: [30, 4], 18: [42, 5], 17: [38, 5], 20: [49, 5], 19: [46, 5], 22: [55, 5], 21: [52, 5], 24: [61, 6], 23: [58, 5], 26: [67, 6], 25: [64, 6], 28: [73, 6], 27: [70, 6], 30: [79, 6], 29: [76, 6], 32: [86, 7], 31: [82, 6], 34: [94, 7], 33: [90, 7], 36: [102, 7], 35: [98, 7], 38: [110, 7], 37: [106, 7], 40: [119, 8], 39: [114, 7], 42: [129, 8], 41: [124, 8], 44: [139, 8], 43: [134, 8], 46: [149, 8], 45: [144, 8], 48: [160, 9], 47: [154, 8], 50: [172, 9], 49: [166, 9], 52: [182, 9], 51: [178, 9], 54: [190, 9], 53: [186, 9], 56: [198, 9], 55: [194, 9], 58: [206, 9], 57: [202, 9], 60: [214, 10], 59: [210, 9], 62: [223, 10]}\n",
      "solu new: 223 0.00677490234375\n"
     ]
    }
   ],
   "source": [
    "import time\n",
    "t0 = time.time()\n",
    "solu = Solution()\n",
    "re = solu.getMoneyAmount(62)\n",
    "t1 = time.time()\n",
    "print('solu new:',re,t1-t0)\n",
    "\n"
   ]
  },
  {
   "cell_type": "code",
   "execution_count": 72,
   "metadata": {},
   "outputs": [
    {
     "ename": "TypeError",
     "evalue": "unsupported operand type(s) for +: 'int' and 'list'",
     "output_type": "error",
     "traceback": [
      "\u001b[0;31m---------------------------------------------------------------------------\u001b[0m",
      "\u001b[0;31mTypeError\u001b[0m                                 Traceback (most recent call last)",
      "\u001b[0;32m<ipython-input-72-72a8d0ec08aa>\u001b[0m in \u001b[0;36m<module>\u001b[0;34m\u001b[0m\n\u001b[1;32m      1\u001b[0m \u001b[0msolu2\u001b[0m \u001b[0;34m=\u001b[0m \u001b[0mSolution2\u001b[0m\u001b[0;34m(\u001b[0m\u001b[0;34m)\u001b[0m\u001b[0;34m\u001b[0m\u001b[0;34m\u001b[0m\u001b[0m\n\u001b[0;32m----> 2\u001b[0;31m \u001b[0mre\u001b[0m \u001b[0;34m=\u001b[0m \u001b[0msolu2\u001b[0m\u001b[0;34m.\u001b[0m\u001b[0mgetMoneyAmount\u001b[0m\u001b[0;34m(\u001b[0m\u001b[0;36m52\u001b[0m\u001b[0;34m)\u001b[0m\u001b[0;34m\u001b[0m\u001b[0;34m\u001b[0m\u001b[0m\n\u001b[0m\u001b[1;32m      3\u001b[0m \u001b[0mt2\u001b[0m \u001b[0;34m=\u001b[0m \u001b[0mtime\u001b[0m\u001b[0;34m.\u001b[0m\u001b[0mtime\u001b[0m\u001b[0;34m(\u001b[0m\u001b[0;34m)\u001b[0m\u001b[0;34m\u001b[0m\u001b[0;34m\u001b[0m\u001b[0m\n\u001b[1;32m      4\u001b[0m \u001b[0mprint\u001b[0m\u001b[0;34m(\u001b[0m\u001b[0;34m'solu old:'\u001b[0m\u001b[0;34m,\u001b[0m\u001b[0mre\u001b[0m\u001b[0;34m,\u001b[0m\u001b[0mt2\u001b[0m\u001b[0;34m-\u001b[0m\u001b[0mt1\u001b[0m\u001b[0;34m)\u001b[0m\u001b[0;34m\u001b[0m\u001b[0;34m\u001b[0m\u001b[0m\n",
      "\u001b[0;32m<ipython-input-60-70243497aa5d>\u001b[0m in \u001b[0;36mgetMoneyAmount\u001b[0;34m(self, n)\u001b[0m\n\u001b[1;32m     74\u001b[0m \u001b[0;34m\u001b[0m\u001b[0m\n\u001b[1;32m     75\u001b[0m \u001b[0;34m\u001b[0m\u001b[0m\n\u001b[0;32m---> 76\u001b[0;31m         \u001b[0;32mreturn\u001b[0m \u001b[0mself\u001b[0m\u001b[0;34m.\u001b[0m\u001b[0mcost\u001b[0m\u001b[0;34m(\u001b[0m\u001b[0mn\u001b[0m\u001b[0;34m)\u001b[0m\u001b[0;34m\u001b[0m\u001b[0;34m\u001b[0m\u001b[0m\n\u001b[0m\u001b[1;32m     77\u001b[0m \u001b[0;34m\u001b[0m\u001b[0m\n\u001b[1;32m     78\u001b[0m \u001b[0;34m\u001b[0m\u001b[0m\n",
      "\u001b[0;32m<ipython-input-60-70243497aa5d>\u001b[0m in \u001b[0;36mcost\u001b[0;34m(self, n)\u001b[0m\n\u001b[1;32m     36\u001b[0m                 \u001b[0mpartition\u001b[0m \u001b[0;34m=\u001b[0m \u001b[0mn\u001b[0m \u001b[0;34m-\u001b[0m \u001b[0mindex\u001b[0m\u001b[0;34m\u001b[0m\u001b[0;34m\u001b[0m\u001b[0m\n\u001b[1;32m     37\u001b[0m                 \u001b[0;31m# print('The first guess:', partition)\u001b[0m\u001b[0;34m\u001b[0m\u001b[0;34m\u001b[0m\u001b[0;34m\u001b[0m\u001b[0m\n\u001b[0;32m---> 38\u001b[0;31m                 \u001b[0mleft_re\u001b[0m \u001b[0;34m=\u001b[0m \u001b[0mpartition\u001b[0m \u001b[0;34m+\u001b[0m \u001b[0mself\u001b[0m\u001b[0;34m.\u001b[0m\u001b[0mcost\u001b[0m\u001b[0;34m(\u001b[0m\u001b[0mpartition\u001b[0m\u001b[0;34m-\u001b[0m \u001b[0;36m1\u001b[0m\u001b[0;34m)\u001b[0m\u001b[0;34m\u001b[0m\u001b[0;34m\u001b[0m\u001b[0m\n\u001b[0m\u001b[1;32m     39\u001b[0m                 \u001b[0;31m# print('The left side guess need cost:',left_re)\u001b[0m\u001b[0;34m\u001b[0m\u001b[0;34m\u001b[0m\u001b[0;34m\u001b[0m\u001b[0m\n\u001b[1;32m     40\u001b[0m                 \u001b[0;31m# back_num = index\u001b[0m\u001b[0;34m\u001b[0m\u001b[0;34m\u001b[0m\u001b[0;34m\u001b[0m\u001b[0m\n",
      "\u001b[0;31mTypeError\u001b[0m: unsupported operand type(s) for +: 'int' and 'list'"
     ]
    }
   ],
   "source": [
    "solu2 = Solution2()\n",
    "re = solu2.getMoneyAmount(52)\n",
    "t2 = time.time()\n",
    "print('solu old:',re,t2-t1)"
   ]
  },
  {
   "cell_type": "code",
   "execution_count": 60,
   "metadata": {},
   "outputs": [],
   "source": [
    "import math\n",
    "class Solution2:\n",
    "    import math\n",
    "    global result_dict\n",
    "    result_dict = {1:0, 2:1, 3:2, 4:3}\n",
    "\n",
    "    \n",
    "\n",
    "    def cost(self, n):\n",
    "        \n",
    "        if n in result_dict:\n",
    "            return result_dict[n]\n",
    "        \n",
    "        if n <= 2: \n",
    "            return n-1;\n",
    "        \n",
    "        if n == 3:\n",
    "            return 2;\n",
    "\n",
    "        if n==4:\n",
    "            return 4\n",
    "\n",
    "        \n",
    "\n",
    "# 6 3 5 \n",
    "\n",
    "        if n >=5:\n",
    "            # index = 1\n",
    "            # re = n - index + self.cost(n - index - 1)\n",
    "            # return re\n",
    "\n",
    "            index = 1\n",
    "            min_re = 2 ** 31\n",
    "            while(index <= n//2):\n",
    "                # print('%%%%%%%%%%')\n",
    "                partition = n - index\n",
    "                # print('The first guess:', partition)\n",
    "                left_re = partition + self.cost(partition- 1)\n",
    "                # print('The left side guess need cost:',left_re)\n",
    "                # back_num = index\n",
    "                guess_time = math.floor(math.log2(index))\n",
    "                # print(guess_time)\n",
    "                right_re = partition + guess_time * partition + self.cost(index) \n",
    "                # print(partition,guess_time * index,self.cost(index) )\n",
    "                # print('The right side guess need cost:',right_re)\n",
    "\n",
    "                if right_re > left_re:\n",
    "                    temp = right_re\n",
    "                else:\n",
    "                    temp = left_re\n",
    "\n",
    "                if temp < min_re:\n",
    "                    min_re = temp\n",
    "                \n",
    "                index += 1\n",
    "            \n",
    "            result_dict[n] = min_re\n",
    "\n",
    "            return min_re\n",
    "\n",
    "    def getMoneyAmount(self, n: int) -> int:\n",
    "        \"\"\"\n",
    "        :type n: int\n",
    "        :rtype: int\n",
    "        \"\"\"\n",
    "\n",
    "        \n",
    "\n",
    "        \n",
    "\n",
    "            \n",
    "\n",
    "        \n",
    "            \n",
    "             \n",
    "        return self.cost(n)\n",
    "\n",
    "\n",
    "    \n",
    "            \n",
    "            \n",
    "             \n",
    "            \n",
    "\n",
    "\n",
    "        return 20"
   ]
  },
  {
   "cell_type": "code",
   "execution_count": 67,
   "metadata": {},
   "outputs": [
    {
     "name": "stdout",
     "output_type": "stream",
     "text": [
      "solu old: 16 426.6227140426636\n"
     ]
    }
   ],
   "source": [
    "solu2 = Solution2()\n",
    "re = solu2.getMoneyAmount(10)\n",
    "t2 = time.time()\n",
    "print('solu old:',re,t2-t1)\n",
    "\n",
    "\n"
   ]
  },
  {
   "cell_type": "code",
   "execution_count": 164,
   "metadata": {},
   "outputs": [
    {
     "name": "stdout",
     "output_type": "stream",
     "text": [
      "1\n",
      "2\n",
      "1\n",
      "47\n"
     ]
    },
    {
     "data": {
      "text/plain": [
       "175"
      ]
     },
     "execution_count": 164,
     "metadata": {},
     "output_type": "execute_result"
    }
   ],
   "source": [
    "class Solution3:\n",
    "    def getMoneyAmount(self, n: int) -> int:\n",
    "        dp = [[0 for _ in range(n + 1)] for _ in range(n + 1)]\n",
    "        for i in range(n):\n",
    "            dp[i][i] = 0        #就一个数字，必然正确\n",
    "            dp[i][i+1] = i      #就2个数字。猜小的\n",
    "        \n",
    "        for L in range (n, -1, -1):     #L依赖右侧\n",
    "            for R in range(L + 1, n + 1):   #R依赖左侧\n",
    "                tmp = float('inf')\n",
    "                for mid in range(L, R):     #猜的数字\n",
    "                    this = mid + max(dp[L][mid - 1],  dp[mid + 1][R])\n",
    "                    if this<tmp and L==1 and R==n:\n",
    "                        print(mid)\n",
    "                    tmp = min(tmp, this)\n",
    "                dp[L][R] = tmp\n",
    "\n",
    "        return dp\n",
    "\n",
    "solu3 = Solution3()\n",
    "re = solu3.getMoneyAmount(3)\n",
    "t2 = time.time()\n",
    "# for i in range(1,63):\n",
    "# #     print(i)\n",
    "#     re = solu3.getMoneyAmount(i)\n",
    "#     print(i,re)\n",
    "    \n",
    "re=solu3.getMoneyAmount(62)\n",
    "re[48][62]"
   ]
  },
  {
   "cell_type": "code",
   "execution_count": 209,
   "metadata": {},
   "outputs": [
    {
     "name": "stdout",
     "output_type": "stream",
     "text": [
      "6\n",
      "14\n",
      "-4.0\n"
     ]
    },
    {
     "data": {
      "text/plain": [
       "49"
      ]
     },
     "execution_count": 209,
     "metadata": {},
     "output_type": "execute_result"
    }
   ],
   "source": [
    "class Solution3:\n",
    "    def getMoneyAmount(self, n: int) -> int:\n",
    "        dp = [[0 for _ in range(n + 1)] for _ in range(n + 1)]\n",
    "        for i in range(n):\n",
    "            dp[i][i] = 0        #就一个数字，必然正确\n",
    "            dp[i][i+1] = i      #就2个数字。猜小的\n",
    "        \n",
    "        for L in range (n, -1, -1):     #L依赖右侧\n",
    "            for R in range(L + 1, n + 1):   #R依赖左侧\n",
    "                tmp = float('inf')\n",
    "                for mid in range(L, R):     #猜的数字\n",
    "                    this = mid + max(dp[L][mid - 1],  dp[mid + 1][R])\n",
    "                    if this<tmp and L==6 and R==9:\n",
    "                        print(mid)\n",
    "                        print(this)\n",
    "                        print((this-30)/4)\n",
    "                    tmp = min(tmp, this)\n",
    "#                     print((tmp-30)/4)\n",
    "                dp[L][R] = tmp\n",
    "\n",
    "        return dp\n",
    "\n",
    "solu3 = Solution3()\n",
    "re = solu3.getMoneyAmount(3)\n",
    "t2 = time.time()\n",
    "# for i in range(1,63):\n",
    "# #     print(i)\n",
    "#     re = solu3.getMoneyAmount(i)\n",
    "#     print(i,re)\n",
    "    \n",
    "re=solu3.getMoneyAmount(62)\n",
    "re[6][20]"
   ]
  },
  {
   "cell_type": "code",
   "execution_count": 173,
   "metadata": {},
   "outputs": [
    {
     "data": {
      "text/plain": [
       "120"
      ]
     },
     "execution_count": 173,
     "metadata": {},
     "output_type": "execute_result"
    }
   ],
   "source": [
    "re[56][58]+59\n",
    "re[60][62]+59"
   ]
  },
  {
   "cell_type": "code",
   "execution_count": 161,
   "metadata": {},
   "outputs": [
    {
     "name": "stdout",
     "output_type": "stream",
     "text": [
      "1\n",
      "2\n"
     ]
    }
   ],
   "source": [
    "re=solu3.getMoneyAmount(5)\n"
   ]
  },
  {
   "cell_type": "code",
   "execution_count": 159,
   "metadata": {},
   "outputs": [
    {
     "name": "stdout",
     "output_type": "stream",
     "text": [
      "1\n"
     ]
    }
   ],
   "source": [
    "re=solu3.getMoneyAmount(4)\n"
   ]
  }
 ],
 "metadata": {
  "kernelspec": {
   "display_name": "Python3.6",
   "language": "python",
   "name": "python36"
  },
  "language_info": {
   "codemirror_mode": {
    "name": "ipython",
    "version": 3
   },
   "file_extension": ".py",
   "mimetype": "text/x-python",
   "name": "python",
   "nbconvert_exporter": "python",
   "pygments_lexer": "ipython3",
   "version": "3.6.12"
  }
 },
 "nbformat": 4,
 "nbformat_minor": 4
}
