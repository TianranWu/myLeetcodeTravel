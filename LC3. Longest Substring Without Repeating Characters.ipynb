{
 "cells": [
  {
   "cell_type": "markdown",
   "source": [
    "给定一个字符串，请你找出其中不含有重复字符的 最长子串 的长度。\n",
    "\n",
    " \n",
    "\n",
    "示例 1:\n",
    "\n",
    "输入: s = \"abcabcbb\"\n",
    "输出: 3 \n",
    "解释: 因为无重复字符的最长子串是 \"abc\"，所以其长度为 3。\n",
    "示例 2:\n",
    "\n",
    "输入: s = \"bbbbb\"\n",
    "输出: 1\n",
    "解释: 因为无重复字符的最长子串是 \"b\"，所以其长度为 1。\n",
    "示例 3:\n",
    "\n",
    "输入: s = \"pwwkew\"\n",
    "输出: 3\n",
    "解释: 因为无重复字符的最长子串是 \"wke\"，所以其长度为 3。\n",
    "     请注意，你的答案必须是 子串 的长度，\"pwke\" 是一个子序列，不是子串。\n",
    "示例 4:\n",
    "\n",
    "输入: s = \"\"\n",
    "输出: 0\n",
    " \n",
    "\n",
    "提示：\n",
    "\n",
    "0 <= s.length <= 5 * 104\n",
    "s 由英文字母、数字、符号和空格组成\n",
    "\n",
    "来源：力扣（LeetCode）\n",
    "链接：https://leetcode-cn.com/problems/longest-substring-without-repeating-characters\n",
    "著作权归领扣网络所有。商业转载请联系官方授权，非商业转载请注明出处。"
   ],
   "metadata": {}
  },
  {
   "cell_type": "code",
   "execution_count": 37,
   "source": [
    "class Solution:\n",
    "    def lengthOfLongestSubstring(self, s: str) -> int:\n",
    "        \n",
    "        length = len(s)\n",
    "        if length == 0:\n",
    "            return 0\n",
    "        \n",
    "        if length == 1:\n",
    "            return 1\n",
    "        \n",
    "        setdif = set(s)\n",
    "        numdif = len(setdif)\n",
    "        if numdif == 1:\n",
    "            return 1\n",
    "        \n",
    "        test_len = numdif\n",
    "        while(test_len > 1):\n",
    "            \n",
    "            print(test_len,self.word_inSet(s,test_len))\n",
    "            \n",
    "            if self.word_inSet(s,test_len):\n",
    "                return test_len\n",
    "            test_len -= 1\n",
    "            \n",
    "            \n",
    "    def word_inSet(self, string, test_len):\n",
    "        \n",
    "        for i in range(len(string) - test_len + 1):\n",
    "            \n",
    "            print(string[i:i+test_len])\n",
    "            \n",
    "            cont = []\n",
    "            for element in string[i:i+test_len]:\n",
    "                if element in cont:\n",
    "                    break\n",
    "                else:\n",
    "                    cont.append(element)\n",
    "            \n",
    "            if len(cont) == test_len:\n",
    "                return True\n",
    "        return False\n",
    "            \n",
    "        \n",
    "            \n",
    "            \n",
    "            \n",
    "            \n",
    "#             print(i,i+test_len)\n",
    "#             print(string[i:i+test_len])\n",
    "        \n",
    "        \n",
    "        \n",
    "        "
   ],
   "outputs": [],
   "metadata": {}
  },
  {
   "cell_type": "code",
   "execution_count": 38,
   "source": [
    "s = \"bbbbb\" \n",
    "# s = \"pwwkew\"\n",
    "# s = \"abcabcbb\"\n",
    "solu = Solution()\n",
    "solu.lengthOfLongestSubstring(s)\n",
    "# solu.word_inSet(s,3)"
   ],
   "outputs": [
    {
     "output_type": "execute_result",
     "data": {
      "text/plain": [
       "1"
      ]
     },
     "metadata": {},
     "execution_count": 38
    }
   ],
   "metadata": {}
  },
  {
   "cell_type": "code",
   "execution_count": 4,
   "source": [
    "class Solution:\n",
    "    def lengthOfLongestSubstring(self, s):\n",
    "        if len(s)==1:\n",
    "            return 1\n",
    "\n",
    "        diction = {}\n",
    "        i, ans = 0, 0\n",
    "        for j in range(len(s)):\n",
    "            if s[j] in diction:\n",
    "               i = max(diction[s[j]]+1,i)\n",
    "            else:\n",
    "                pass\n",
    "            ans = max(ans, j - i +1)\n",
    "        # j 表示子串终止位置，i表示字串起始位置 \n",
    "        #   当未出现重复时，字符串的长度即为字符串的结束位置减去起始位置\n",
    "        #   发生重复时，重新利用字符串的结束位置j减去新的起始位置i\n",
    "        # 并与之前的未重复字串的长度作比较取较大者\n",
    "            diction[s[j]] = j\n",
    "            \n",
    "        return ans;"
   ],
   "outputs": [],
   "metadata": {}
  },
  {
   "cell_type": "code",
   "execution_count": 6,
   "source": [
    "s = \"bbbbb\" \n",
    "# s = 'a'\n",
    "# s = 'ab'\n",
    "# s = \"pwwkew\"\n",
    "s = \"abcabcbb\"\n",
    "solu = Solution()\n",
    "solu.lengthOfLongestSubstring(s)\n",
    "# solu.word_inSet(s,3)"
   ],
   "outputs": [
    {
     "output_type": "execute_result",
     "data": {
      "text/plain": [
       "3"
      ]
     },
     "metadata": {},
     "execution_count": 6
    }
   ],
   "metadata": {}
  },
  {
   "cell_type": "code",
   "execution_count": 7,
   "source": [
    "class official_Solution:\n",
    "    def lengthOfLongestSubstring(self, s: str) -> int:\n",
    "        # 哈希集合，记录每个字符是否出现过\n",
    "        occ = set()\n",
    "        n = len(s)\n",
    "        # 右指针，初始值为 -1，相当于我们在字符串的左边界的左侧，还没有开始移动\n",
    "        rk, ans = -1, 0\n",
    "        for i in range(n):\n",
    "            if i != 0:\n",
    "                # 左指针向右移动一格，移除一个字符\n",
    "                occ.remove(s[i - 1])\n",
    "            while rk + 1 < n and s[rk + 1] not in occ:\n",
    "                # 不断地移动右指针\n",
    "                occ.add(s[rk + 1])\n",
    "                rk += 1\n",
    "            # 第 i 到 rk 个字符是一个极长的无重复字符子串\n",
    "            ans = max(ans, rk - i + 1)\n",
    "        return ans\n",
    "\n",
    "\n",
    "# 链接：https://leetcode-cn.com/problems/longest-substring-without-repeating-characters/solution/wu-zhong-fu-zi-fu-de-zui-chang-zi-chuan-by-leetc-2/\n"
   ],
   "outputs": [],
   "metadata": {}
  }
 ],
 "metadata": {
  "kernelspec": {
   "name": "python3",
   "display_name": "Python 3.6.12 64-bit ('python36': conda)"
  },
  "language_info": {
   "codemirror_mode": {
    "name": "ipython",
    "version": 3
   },
   "file_extension": ".py",
   "mimetype": "text/x-python",
   "name": "python",
   "nbconvert_exporter": "python",
   "pygments_lexer": "ipython3",
   "version": "3.6.12"
  },
  "interpreter": {
   "hash": "f5a58e333481b3b331bc37ad43d34c7462e18768b90ee8656473bf902c01430e"
  }
 },
 "nbformat": 4,
 "nbformat_minor": 4
}