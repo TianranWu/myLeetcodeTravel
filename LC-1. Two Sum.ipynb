{
 "cells": [
  {
   "cell_type": "markdown",
   "metadata": {},
   "source": [
    "给定一个整数数组 nums 和一个整数目标值 target，请你在该数组中找出 和为目标值 的那 两个 整数，并返回它们的数组下标。\n",
    "\n",
    "你可以假设每种输入只会对应一个答案。但是，数组中同一个元素在答案里不能重复出现。\n",
    "\n",
    "你可以按任意顺序返回答案。\n",
    "\n",
    " \n",
    "\n",
    "示例 1：\n",
    "\n",
    "输入：nums = [2,7,11,15], target = 9\n",
    "输出：[0,1]\n",
    "解释：因为 nums[0] + nums[1] == 9 ，返回 [0, 1] 。\n",
    "示例 2：\n",
    "\n",
    "输入：nums = [3,2,4], target = 6\n",
    "输出：[1,2]\n",
    "示例 3：\n",
    "\n",
    "输入：nums = [3,3], target = 6\n",
    "输出：[0,1]\n",
    " \n",
    "\n",
    "提示：\n",
    "\n",
    "2 <= nums.length <= 103\n",
    "-109 <= nums[i] <= 109\n",
    "-109 <= target <= 109\n",
    "只会存在一个有效答案\n",
    "\n",
    "来源：力扣（LeetCode）\n",
    "链接：https://leetcode-cn.com/problems/two-sum\n",
    "著作权归领扣网络所有。商业转载请联系官方授权，非商业转载请注明出处。"
   ]
  },
  {
   "cell_type": "code",
   "execution_count": 1,
   "metadata": {},
   "outputs": [],
   "source": [
    "# 已经解决：\n",
    "# 这个方法不对…… 如果原数组里有重复值就不能倒过来…… 呜呜\n",
    "# 每种输入只会对应一个答案 - 这个怎么用？\n",
    "# 解决啦！\n",
    "\n",
    "\n",
    "\n",
    "class Solution:\n",
    "    def twoSum(self, nums, target):\n",
    "        print(nums)\n",
    "        print(target)\n",
    "        \n",
    "        revNum = {}\n",
    "        for i,value in enumerate(nums):\n",
    "            revNum[str(value)] = i\n",
    "#         print(revNum)\n",
    "        \n",
    "        for i, value in enumerate(nums):\n",
    "            dic = revNum.copy()\n",
    "            res = target - value\n",
    "            try:\n",
    "                del dic[str(value)] # 删除键 str(value)\n",
    "                result = dic[str(res)]\n",
    "                return [i,result]\n",
    "            except:\n",
    "                continue\n",
    "        \n",
    "        \n",
    "        # 上面这个代码只能应对 “答案不是两个相同数字的情况” ，因为逆值是存在字典里的，字典的key又不可以相同\n",
    "        # 那么如果答案是俩相同数字，上面不返回，继续执行以下：\n",
    "        result2 = []\n",
    "        for i, value in enumerate(nums):\n",
    "            if value == target//2:\n",
    "                result2.append(i)\n",
    "        return result2\n",
    "        \n",
    "        return 0"
   ]
  },
  {
   "cell_type": "code",
   "execution_count": 2,
   "metadata": {},
   "outputs": [
    {
     "name": "stdout",
     "output_type": "stream",
     "text": [
      "[3, 2, 4]\n",
      "6\n"
     ]
    },
    {
     "data": {
      "text/plain": [
       "[1, 2]"
      ]
     },
     "execution_count": 2,
     "metadata": {},
     "output_type": "execute_result"
    }
   ],
   "source": [
    "nums = [3,2,4]\n",
    "target = 6\n",
    "\n",
    "solu = Solution()\n",
    "solu.twoSum(nums, target)"
   ]
  },
  {
   "cell_type": "code",
   "execution_count": null,
   "metadata": {},
   "outputs": [],
   "source": [
    "class Solution:\n",
    "    def twoSum(self, nums, target):\n",
    "        \"\"\"\n",
    "        :type nums: List[int]\n",
    "        :type target: int\n",
    "        :rtype: List[int]\n",
    "        \"\"\"\n",
    "        hashmap = {}\n",
    "        for index, num in enumerate(nums):\n",
    "            another_num = target - num\n",
    "            if another_num in hashmap:\n",
    "                return [hashmap[another_num], index]\n",
    "            hashmap[num] = index\n",
    "        return None"
   ]
  },
  {
   "cell_type": "markdown",
   "metadata": {},
   "source": [
    "hashmap方法，边遍历，边查字典里有没有这个值，查到立刻返回。"
   ]
  },
  {
   "cell_type": "code",
   "execution_count": 8,
   "metadata": {},
   "outputs": [
    {
     "name": "stdout",
     "output_type": "stream",
     "text": [
      "[0, 1]\n"
     ]
    }
   ],
   "source": [
    "class Solution:\n",
    "    def twoSum(self, nums, target):\n",
    "        revNum = {}\n",
    "        for i,value in enumerate(nums):\n",
    "            another_value = target - value\n",
    "            if another_value in revNum:\n",
    "                return [revNum[another_value],i]\n",
    "            revNum[value] = i\n",
    "#         print(revNum)\n",
    "        print('应该是没有')\n",
    "        \n",
    "        return 0\n",
    "    \n",
    "nums = [3,3,2,4]\n",
    "target = 6\n",
    "\n",
    "solu = Solution()\n",
    "print(solu.twoSum(nums, target))"
   ]
  }
 ],
 "metadata": {
  "kernelspec": {
   "display_name": "Python3.6",
   "language": "python",
   "name": "python36"
  },
  "language_info": {
   "codemirror_mode": {
    "name": "ipython",
    "version": 3
   },
   "file_extension": ".py",
   "mimetype": "text/x-python",
   "name": "python",
   "nbconvert_exporter": "python",
   "pygments_lexer": "ipython3",
   "version": "3.6.12"
  }
 },
 "nbformat": 4,
 "nbformat_minor": 4
}
