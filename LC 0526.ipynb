{
 "cells": [
  {
   "cell_type": "code",
   "execution_count": 65,
   "metadata": {},
   "outputs": [
    {
     "data": {
      "text/plain": [
       "'ailoveu'"
      ]
     },
     "execution_count": 65,
     "metadata": {},
     "output_type": "execute_result"
    }
   ],
   "source": [
    "class Solution(object):\n",
    "    def swap(self, s, left, right):\n",
    "            news = s[0:left]\n",
    "            for i in range(right-1, left, -1):\n",
    "                # print(i)\n",
    "                news = news + s[i]\n",
    "            news = news + s[right+1:]\n",
    "            return news\n",
    "\n",
    "    def reverseParentheses(self, s):\n",
    "        \"\"\"\n",
    "        :type s: str\n",
    "        :rtype: str\n",
    "        \"\"\"\n",
    "\n",
    "        \n",
    "        # return self.swap(s,1,4)\n",
    "        news = s\n",
    "        left = []\n",
    "        right = []\n",
    "        count = 0\n",
    "\n",
    "        for i in range(len(s)):\n",
    "            if s[i] == '(':\n",
    "                left.append(i)\n",
    "\n",
    "            if s[i] == ')':\n",
    "                right.append(i)\n",
    "                new_count = sum([emt<left[-1] for emt in right]) \n",
    "\n",
    "                news = self.swap(news, left[-1] - 2 * new_count, i - 2*count)\n",
    "                count+=1\n",
    "                \n",
    "                left = left[:-1]        \n",
    "        \n",
    "        return news\n",
    "            \n",
    "\n",
    "        \n",
    "\n",
    "\n",
    "solu = Solution()\n",
    "solu.reverseParentheses(\"(a)(u(love)i)\")\n",
    "\n"
   ]
  }
 ],
 "metadata": {
  "kernelspec": {
   "display_name": "Python 3",
   "language": "python",
   "name": "python3"
  },
  "language_info": {
   "codemirror_mode": {
    "name": "ipython",
    "version": 3
   },
   "file_extension": ".py",
   "mimetype": "text/x-python",
   "name": "python",
   "nbconvert_exporter": "python",
   "pygments_lexer": "ipython3",
   "version": "3.8.5"
  }
 },
 "nbformat": 4,
 "nbformat_minor": 4
}
