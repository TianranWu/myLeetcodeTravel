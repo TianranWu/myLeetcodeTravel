{
 "cells": [
  {
   "cell_type": "markdown",
   "metadata": {},
   "source": [
    "Write a function to find the longest common prefix string amongst an array of strings.\n",
    "\n",
    "If there is no common prefix, return an empty string \"\".\n",
    "\n",
    " \n",
    "\n",
    "Example 1:\n",
    "\n",
    "Input: strs = [\"flower\",\"flow\",\"flight\"]\n",
    "Output: \"fl\"\n",
    "Example 2:\n",
    "\n",
    "Input: strs = [\"dog\",\"racecar\",\"car\"]\n",
    "Output: \"\"\n",
    "Explanation: There is no common prefix among the input strings.\n",
    " \n",
    "\n",
    "Constraints:\n",
    "\n",
    "1 <= strs.length <= 200\n",
    "0 <= strs[i].length <= 200\n",
    "strs[i] consists of only lower-case English letters.\n",
    "\n",
    "来源：力扣（LeetCode）\n",
    "链接：https://leetcode-cn.com/problems/longest-common-prefix\n",
    "著作权归领扣网络所有。商业转载请联系官方授权，非商业转载请注明出处。"
   ]
  },
  {
   "cell_type": "markdown",
   "metadata": {},
   "source": [
    "use python property:\n",
    "    strings can be compared using ASCII\n",
    " "
   ]
  },
  {
   "cell_type": "code",
   "execution_count": 5,
   "metadata": {},
   "outputs": [
    {
     "name": "stdout",
     "output_type": "stream",
     "text": [
      "fl\n",
      "\n"
     ]
    }
   ],
   "source": [
    "class Solution(object):\n",
    "    def longestCommonPrefix(self, strs):\n",
    "        \"\"\"\n",
    "        :type strs: List[str]\n",
    "        :rtype: str\n",
    "        \"\"\"\n",
    "        maxstr = max(strs)\n",
    "        minstr = min(strs)\n",
    "        \n",
    "        result = ''\n",
    "        for i in range(min(len(maxstr),len(minstr))):\n",
    "            if maxstr[i] == minstr[i]:\n",
    "                result = result + minstr[i]\n",
    "            else:\n",
    "                break\n",
    "        \n",
    "        \n",
    "        \n",
    "        return result\n",
    "    \n",
    "strs = [\"flower\",\"flow\",\"flight\"]\n",
    "solu = Solution()\n",
    "print(solu.longestCommonPrefix(strs))\n",
    "strs = [\"dog\",\"racecar\",\"car\"]\n",
    "print(solu.longestCommonPrefix(strs))"
   ]
  },
  {
   "cell_type": "code",
   "execution_count": 8,
   "metadata": {},
   "outputs": [
    {
     "name": "stdout",
     "output_type": "stream",
     "text": [
      "fl\n",
      "\n"
     ]
    }
   ],
   "source": [
    "# Spare one string space\n",
    "class Solution(object):\n",
    "    def longestCommonPrefix(self, strs):\n",
    "        \"\"\"\n",
    "        :type strs: List[str]\n",
    "        :rtype: str\n",
    "        \"\"\"\n",
    "        maxstr = max(strs)\n",
    "        minstr = min(strs)\n",
    "        \n",
    "        for i in range(len(minstr)):\n",
    "            if maxstr[i] != minstr[i]:\n",
    "                return minstr[:i]\n",
    "        \n",
    "        return minstr\n",
    "strs = [\"flower\",\"flow\",\"flight\"]\n",
    "solu = Solution()\n",
    "print(solu.longestCommonPrefix(strs))\n",
    "strs = [\"dog\",\"racecar\",\"car\"]\n",
    "print(solu.longestCommonPrefix(strs))"
   ]
  }
 ],
 "metadata": {
  "kernelspec": {
   "display_name": "Python3.6",
   "language": "python",
   "name": "python36"
  },
  "language_info": {
   "codemirror_mode": {
    "name": "ipython",
    "version": 3
   },
   "file_extension": ".py",
   "mimetype": "text/x-python",
   "name": "python",
   "nbconvert_exporter": "python",
   "pygments_lexer": "ipython3",
   "version": "3.6.12"
  }
 },
 "nbformat": 4,
 "nbformat_minor": 4
}
