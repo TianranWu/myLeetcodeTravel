{
 "cells": [
  {
   "cell_type": "code",
   "execution_count": null,
   "metadata": {},
   "outputs": [],
   "source": [
    "class Solution(object):\n",
    "    def reverseKGroup(self, head, k):\n",
    "        \"\"\"\n",
    "        :type head: ListNode\n",
    "        :type k: int\n",
    "        :rtype: ListNode\n",
    "        \"\"\"\n",
    "        # Dummy node initialization\n",
    "        dummy = jump = ListNode(-1)\n",
    "        dummy.next = l = r = head\n",
    "        \n",
    "        while True:\n",
    "            count = 0\n",
    "            while r and count < k:\n",
    "                count += 1\n",
    "                r = r.next\n",
    "            if count == k:\n",
    "                pre, cur = r, l\n",
    "                for _ in range(k):\n",
    "                    temp = cur.next\n",
    "                    cur.next = pre\n",
    "                    pre = cur\n",
    "                    cur = temp\n",
    "                jump.next = pre\n",
    "                jump = l\n",
    "                l = r\n",
    "            else:\n",
    "                pre, cur = r, l\n",
    "                for _ in range(count):\n",
    "                    temp = cur.next\n",
    "                    cur.next = pre\n",
    "                    pre = cur\n",
    "                    cur = temp\n",
    "                jump.next = pre\n",
    "                jump = l\n",
    "                l = r\n",
    "                return dummy.next"
   ]
  },
  {
   "cell_type": "code",
   "execution_count": null,
   "metadata": {},
   "outputs": [],
   "source": [
    "class Solution(object):\n",
    "    def reverseKGroup(self, head, k):\n",
    "        \"\"\"\n",
    "        :type head: ListNode\n",
    "        :type k: int\n",
    "        :rtype: ListNode\n",
    "        \"\"\"\n",
    "        # Dummy node initialization\n",
    "        dummy = jump = ListNode(-1)\n",
    "        dummy.next = l = r = head\n",
    "        \n",
    "        while True:\n",
    "            count = 0\n",
    "            while r and count < k:\n",
    "                count += 1\n",
    "                r = r.next\n",
    "            if count == k:\n",
    "                pre, cur = r, l # l：记录下来这k组的头。r：下一个k组的头\n",
    "                for _ in range(k):\n",
    "                    temp = cur.next\n",
    "                    cur.next = pre\n",
    "                    pre = cur\n",
    "                    cur = temp\n",
    "                jump.next = pre # jump是这k组的头的上一个节点，所以其next应该是转换结束后的新头节点\n",
    "                jump = l # jump本身更新为l，l本来是这k组的头头，现在转完了变成了这k组的尾巴；也是下一个k组的头的上一个节点\n",
    "                l = r # l更新，更新为下一个k组的头头。\n",
    "            else:\n",
    "                return dummy.next"
   ]
  },
  {
   "cell_type": "code",
   "execution_count": null,
   "metadata": {},
   "outputs": [],
   "source": [
    "def search(self, nums, target):\n",
    "    \"\"\"\n",
    "    :type nums: List[int]\n",
    "    :type target: int\n",
    "    :rtype: int\n",
    "    \"\"\"\n",
    "    left,right = 0,len(nums)-1\n",
    "\n",
    "    while left <= right:\n",
    "        mid = (right-left)//2 + left\n",
    "        if nums[mid] == target:\n",
    "            return mid\n",
    "        else:\n",
    "            if nums[mid] > target:\n",
    "                right = mid - 1\n",
    "            else:\n",
    "                left = mid + 1\n",
    "    return -1"
   ]
  },
  {
   "cell_type": "code",
   "execution_count": null,
   "metadata": {},
   "outputs": [],
   "source": []
  },
  {
   "cell_type": "code",
   "execution_count": 2,
   "metadata": {},
   "outputs": [],
   "source": [
    "def swap(arr,a,b):\n",
    "    tmp = arr[a]\n",
    "    arr[a] = arr[b]\n",
    "    arr[b] = tmp\n"
   ]
  },
  {
   "cell_type": "code",
   "execution_count": 3,
   "metadata": {},
   "outputs": [
    {
     "name": "stdout",
     "output_type": "stream",
     "text": [
      "4 2\n",
      "swap 0 4\n",
      "swap 1 3\n"
     ]
    },
    {
     "data": {
      "text/plain": [
       "([2, 1, 3, 2, 3, 4, 5, 5, 6], 2)"
      ]
     },
     "execution_count": 3,
     "metadata": {},
     "output_type": "execute_result"
    }
   ],
   "source": [
    "def mergeSort(array, L, R):\n",
    "    if L < R:\n",
    "        mid = (L + R)//2\n",
    "        mergeSort(array,L,mid)\n",
    "        mergeSort(array,mid+1,R)\n",
    "        merge(array, L, mid, R)\n",
    "    \n",
    "    \n",
    "def merge(array, L, mid, R):\n",
    "    \n",
    "    helper = array[:]\n",
    "    \n",
    "    pL = L\n",
    "    pR = mid+1\n",
    "    cur = L\n",
    "    \n",
    "    while pL <= mid and pR <= R:\n",
    "        \n",
    "        if helper[pL] > helper[pR]:\n",
    "            array[cur] = helper[pR]\n",
    "            pR += 1\n",
    "        else:\n",
    "            array[cur] = helper[pL]\n",
    "            pL += 1\n",
    "        cur += 1\n",
    "        \n",
    "    leftRemain = mid - pL\n",
    "    if leftRemain > 0:\n",
    "        for i in range(letRemain):\n",
    "            array[cur + i] = helper[pL + i]\n",
    "\n",
    "def partition(array, pl, pr):\n",
    "    \n",
    "# The goal of the partition is to break the array into two segments. \n",
    "# The first segment contains elements [1,2,3,3]. \n",
    "# All of these values are less than or equal to four. \n",
    "# The second segment contains elements [5,6,4]. \n",
    "# All of these values are greater than or equal to four.\n",
    "# The partition function returns where the second segment begins. In this case it starts at index 4.\n",
    "    \n",
    "    mid = (pl+pr)//2\n",
    "    pv = array[mid]\n",
    "    print(mid, pv)\n",
    "#     if pl == pr:\n",
    "#         return pl+1\n",
    "    \n",
    "    while pl <= pr:\n",
    "        \n",
    "        while array[pl] < pv: pl+=1\n",
    "        while array[pr] > pv: pr-=1\n",
    "        \n",
    "        if pl <= pr:\n",
    "            print('swap',pl,pr)\n",
    "            swap(array, pl, pr)\n",
    "            pl += 1\n",
    "            pr -= 1\n",
    "            \n",
    "    return pl\n",
    "\n",
    "\n",
    "def quickSort(array, left, right):\n",
    "    index = partition(array, left, right)\n",
    "    print(array[left:right+1],index)\n",
    "    if left < index-1:\n",
    "        quickSort(array,left, index-1)\n",
    "    if index < right:\n",
    "        quickSort(array,index,right)\n",
    "        \n",
    "\n",
    "# def quickSort2(array, left, right):\n",
    "#     index = partition(array, left, right)\n",
    "#     if left < index:\n",
    "#         quickSort(array,left, index)\n",
    "#     if index+1 < right:\n",
    "#         quickSort(array,index+1,right)\n",
    "\n",
    "\n",
    "\n",
    "# array =  [1,23,79,74,2,5,78,3]\n",
    "array = [3,2,3,1,2,4,5,5,6]\n",
    "# [2,1,3,2,3,4,5,5,6]\n",
    "index = partition(array, 0, len(array)-1)\n",
    "array,index\n",
    "\n",
    "# [1,2,79,74,23,5,78,3]\n",
    "# quickSort(array, 0, len(array)-1)\n",
    "# array"
   ]
  },
  {
   "cell_type": "code",
   "execution_count": null,
   "metadata": {},
   "outputs": [],
   "source": []
  },
  {
   "cell_type": "code",
   "execution_count": null,
   "metadata": {},
   "outputs": [],
   "source": []
  },
  {
   "cell_type": "code",
   "execution_count": null,
   "metadata": {},
   "outputs": [],
   "source": []
  },
  {
   "cell_type": "code",
   "execution_count": 3,
   "metadata": {},
   "outputs": [
    {
     "name": "stdout",
     "output_type": "stream",
     "text": [
      "4 6\n",
      "swap 4 4\n"
     ]
    },
    {
     "data": {
      "text/plain": [
       "(5, [1, 2, 3, 4, 6])"
      ]
     },
     "execution_count": 3,
     "metadata": {},
     "output_type": "execute_result"
    }
   ],
   "source": [
    "arr = [1,2,3,4,6]\n",
    "index = partition(arr,4,4)\n",
    "index,arr"
   ]
  },
  {
   "cell_type": "code",
   "execution_count": 4,
   "metadata": {},
   "outputs": [
    {
     "ename": "NameError",
     "evalue": "name 'quickSort2' is not defined",
     "output_type": "error",
     "traceback": [
      "\u001b[0;31m---------------------------------------------------------------------------\u001b[0m",
      "\u001b[0;31mNameError\u001b[0m                                 Traceback (most recent call last)",
      "\u001b[0;32m<ipython-input-4-0a2091bdee8a>\u001b[0m in \u001b[0;36m<module>\u001b[0;34m\u001b[0m\n\u001b[1;32m     15\u001b[0m \u001b[0;34m\u001b[0m\u001b[0m\n\u001b[1;32m     16\u001b[0m \u001b[0;31m# [1,2,79,74,23,5,78,3]\u001b[0m\u001b[0;34m\u001b[0m\u001b[0;34m\u001b[0m\u001b[0;34m\u001b[0m\u001b[0m\n\u001b[0;32m---> 17\u001b[0;31m \u001b[0mquickSort2\u001b[0m\u001b[0;34m(\u001b[0m\u001b[0marray\u001b[0m\u001b[0;34m,\u001b[0m \u001b[0;36m0\u001b[0m\u001b[0;34m,\u001b[0m \u001b[0mlen\u001b[0m\u001b[0;34m(\u001b[0m\u001b[0marray\u001b[0m\u001b[0;34m)\u001b[0m\u001b[0;34m-\u001b[0m\u001b[0;36m1\u001b[0m\u001b[0;34m)\u001b[0m\u001b[0;34m\u001b[0m\u001b[0;34m\u001b[0m\u001b[0m\n\u001b[0m\u001b[1;32m     18\u001b[0m \u001b[0marray\u001b[0m\u001b[0;34m\u001b[0m\u001b[0;34m\u001b[0m\u001b[0m\n",
      "\u001b[0;31mNameError\u001b[0m: name 'quickSort2' is not defined"
     ]
    }
   ],
   "source": [
    "array = [1,23,74,2,5,78]\n",
    "# mergeSort(array,0,len(array)-1)\n",
    "# array\n",
    "\n",
    "\n",
    "#       _            _\n",
    "array =  [1,23,79,74,2,5,78,3]\n",
    "# 74\n",
    "#         _    _  \n",
    "# [1,23,3,74,2,5,78,79]\n",
    "\n",
    "# [1,23,3,5,2,74,78,79]\n",
    "\n",
    "array = [3,2,3,1,2,4,5,5,6]\n",
    "\n",
    "# [1,2,79,74,23,5,78,3]\n",
    "quickSort2(array, 0, len(array)-1)\n",
    "array"
   ]
  },
  {
   "cell_type": "code",
   "execution_count": 5,
   "metadata": {},
   "outputs": [
    {
     "name": "stdout",
     "output_type": "stream",
     "text": [
      "4 2\n",
      "swap 0 4\n",
      "swap 1 3\n",
      "[2, 1, 3, 2, 3, 4, 5, 5, 6] 2\n",
      "0 2\n",
      "swap 0 1\n",
      "[1, 2] 1\n",
      "5 4\n",
      "swap 5 5\n",
      "[3, 2, 3, 4, 5, 5, 6] 6\n",
      "3 2\n",
      "swap 2 3\n",
      "[2, 3, 3, 4] 3\n",
      "4 3\n",
      "swap 3 4\n",
      "[3, 3, 4] 4\n",
      "4 3\n",
      "swap 4 4\n",
      "[3, 4] 5\n",
      "7 5\n",
      "swap 6 7\n",
      "[5, 5, 6] 7\n",
      "7 5\n",
      "swap 7 7\n",
      "[5, 6] 8\n"
     ]
    }
   ],
   "source": [
    "quickSort(array, 0, len(array)-1)"
   ]
  },
  {
   "cell_type": "markdown",
   "metadata": {},
   "source": [
    "## 教科书板子"
   ]
  },
  {
   "cell_type": "code",
   "execution_count": 19,
   "metadata": {},
   "outputs": [
    {
     "name": "stdout",
     "output_type": "stream",
     "text": [
      "[7, 2, 3, 1, 2, 4, 5, 5, 6]\n",
      "swap 8 8\n"
     ]
    },
    {
     "data": {
      "text/plain": [
       "([6, 2, 3, 1, 2, 4, 5, 5, 7], 8)"
      ]
     },
     "execution_count": 19,
     "metadata": {},
     "output_type": "execute_result"
    }
   ],
   "source": [
    "def partition1(array, pl, pr):\n",
    "    \n",
    "    mid = pl\n",
    "    pv = array[pl]\n",
    "    print(mid, pv)\n",
    "    \n",
    "    while pl < pr:\n",
    "        \n",
    "        while array[pl] <= pv: pl+=1\n",
    "        while array[pr] >= pv: pr-=1\n",
    "        \n",
    "        if pl < pr:\n",
    "            swap(array, pl, pr)\n",
    "    swap(array,mid,pl)\n",
    "            \n",
    "    return pl\n"
   ]
  },
  {
   "cell_type": "markdown",
   "metadata": {},
   "source": [
    "## 高青板子"
   ]
  },
  {
   "cell_type": "code",
   "execution_count": 4,
   "metadata": {},
   "outputs": [
    {
     "data": {
      "text/plain": [
       "[2, 3, 1, 5]"
      ]
     },
     "execution_count": 4,
     "metadata": {},
     "output_type": "execute_result"
    }
   ],
   "source": [
    "def partition(arr,left,right):\n",
    "    temp=left\n",
    "    while(left<right):\n",
    "        #从右往左找第一个小于an[temp]的数\n",
    "        while(left<right and arr[right]>=arr[temp]):\n",
    "            right-=1\n",
    "        #从左往右找第一个大于an[temp]的数\n",
    "        while(left<right and arr[left]<=arr[temp]):\n",
    "            left+=1\n",
    "        swap(arr,left,right)\n",
    "    swap(arr,left,temp)\n",
    "    return left\n",
    "\n",
    "def quickSort(array, left, right):\n",
    "    index = partition(array, left, right)\n",
    "    # print(array[left:right+1],index)\n",
    "    if left < index-1:\n",
    "        quickSort(array,left, index-1)\n",
    "    if index+1 < right:\n",
    "        quickSort(array,index+1,right)\n",
    "\n",
    "nums = [5,2,3,1]\n",
    "quickSort(nums,0,len(nums)-1)\n",
    "nums\n",
    "# array = [3,2,3,1,2,4,5,5,6]\n",
    "# # array = [1,23,79,74,2,5,78,3]\n",
    "# print(array)\n",
    "# index = partition(array,0,len(array)-1)\n",
    "# array,index"
   ]
  },
  {
   "cell_type": "markdown",
   "metadata": {},
   "source": [
    "## 改动"
   ]
  },
  {
   "cell_type": "code",
   "execution_count": 49,
   "metadata": {},
   "outputs": [],
   "source": [
    "def partition(nums,start,end):\n",
    "    mid = random.randint(start,end)\n",
    "    nums[start], nums[mid] = nums[mid], nums[start]\n",
    "    i = start + 1\n",
    "    j = end\n",
    "    while i <= j:\n",
    "        while i <= j and nums[i] <= nums[start]:\n",
    "            i += 1\n",
    "        while i <= j and nums[j] >= nums[start]:\n",
    "            j -= 1\n",
    "        if i < j:\n",
    "            nums[i], nums[j] = nums[j], nums[i]  \n",
    "    nums[start], nums[j] = nums[j], nums[start]\n",
    "    return j"
   ]
  },
  {
   "cell_type": "markdown",
   "metadata": {},
   "source": []
  },
  {
   "cell_type": "code",
   "execution_count": 87,
   "metadata": {},
   "outputs": [],
   "source": [
    "def partition(nums,start, end):\n",
    "    import random\n",
    "    mid = random.randint(start,end)\n",
    "    pv = nums[mid]\n",
    "    nums[start], nums[mid] = nums[mid], nums[start]\n",
    "    \n",
    "    left = start\n",
    "    right = end\n",
    "    while(left<right):\n",
    "        #从右往左找第一个小于an[temp]的数\n",
    "        while(left<right and nums[right]>=pv):\n",
    "            right-=1\n",
    "        #从左往右找第一个大于an[temp]的数\n",
    "        while(left<right and nums[left]<=pv):\n",
    "            left+=1\n",
    "\n",
    "        swap(nums,left,right)\n",
    "    swap(nums,left, start)\n",
    "    return left"
   ]
  },
  {
   "cell_type": "code",
   "execution_count": 88,
   "metadata": {},
   "outputs": [
    {
     "data": {
      "text/plain": [
       "[1, 2, 3, 5]"
      ]
     },
     "execution_count": 88,
     "metadata": {},
     "output_type": "execute_result"
    }
   ],
   "source": [
    "\n",
    "\n",
    "def quickSort(array, left, right):\n",
    "    index = partition(array, left, right)\n",
    "    # print(array[left:right+1],index)\n",
    "    if left < index-1:\n",
    "        quickSort(array,left, index-1)\n",
    "    if index+1 < right:\n",
    "        quickSort(array,index+1,right)\n",
    "\n",
    "nums = [5,2,3,1,]\n",
    "quickSort(nums,0,len(nums)-1)\n",
    "nums"
   ]
  },
  {
   "cell_type": "code",
   "execution_count": 23,
   "metadata": {},
   "outputs": [
    {
     "name": "stdout",
     "output_type": "stream",
     "text": [
      "[3, 2, 3, 1, 2, 4, 5, 5, 6]\n",
      "swap 5 5\n"
     ]
    },
    {
     "data": {
      "text/plain": [
       "([2, 2, 3, 1, 3, 4, 5, 5, 6], 4)"
      ]
     },
     "execution_count": 23,
     "metadata": {},
     "output_type": "execute_result"
    }
   ],
   "source": [
    "# def partition(arr,left,right):\n",
    "#     t = left\n",
    "#     pv = arr[t]\n",
    "#     while left < right:\n",
    "        \n",
    "        \n",
    "#         while left < right and arr[left]<=pv: left+=1\n",
    "#         while left < right and arr[right]>=pv: right-=1\n",
    "        \n",
    "        \n",
    "# #         print('swap',left,right)\n",
    "#         swap(arr,left,right)\n",
    "#     swap(arr,left-1,t)\n",
    "#     return left-1\n",
    "# array = [3,2,3,1,2,4,5,5,6]\n",
    "# # array = [1,23,79,74,2,5,78,3]\n",
    "# print(array)\n",
    "# index = partition(array,0,len(array)-1)\n",
    "# array,index"
   ]
  },
  {
   "cell_type": "code",
   "execution_count": 36,
   "metadata": {},
   "outputs": [
    {
     "data": {
      "text/plain": [
       "[('a', 1), ('e', 4), ('b', 5)]"
      ]
     },
     "execution_count": 36,
     "metadata": {},
     "output_type": "execute_result"
    }
   ],
   "source": [
    "a = [('a',1),('b',5),('e',4),('f',2)]\n",
    "sorted(a,key=lambda a :a[1])\n",
    "dict = {'a':1,'b':5,'e':4}\n",
    "\n",
    "sorted(dict.items(),key=lambda x:(x[1],x[0]))\n",
    "# sorted(dict.keys())"
   ]
  },
  {
   "cell_type": "code",
   "execution_count": 2,
   "metadata": {},
   "outputs": [],
   "source": [
    "class Solution:\n",
    "    def sortArray(self, nums):\n",
    "        \n",
    "        def partition(nums, i, j):\n",
    "            key = random.randint(i, j)\n",
    "            pivot = nums[key]\n",
    "            while i<j:\n",
    "                while i<j and nums[j]>= pivot:\n",
    "                    j-=1\n",
    "                nums[i] = nums[j]\n",
    "                while i<j and nums[i]<= pivot:\n",
    "                    i+=1\n",
    "                nums[j] = nums[i]\n",
    "            \n",
    "            nums[i] = pivot\n",
    "            return i\n",
    "\n",
    "        def quick(nums, l,r):\n",
    "            if l<r:\n",
    "                pivot = partition(nums,l , r)\n",
    "                quick(nums, l, pivot-1)\n",
    "                quick(nums, pivot+1, r)\n",
    "            return nums\n",
    "\n",
    "\n",
    "        nums = quick(nums, 0, len(nums)-1)\n",
    "        \n",
    "        return nums"
   ]
  },
  {
   "cell_type": "code",
   "execution_count": 13,
   "metadata": {},
   "outputs": [
    {
     "data": {
      "text/plain": [
       "(5, [1, 2, 3, 5])"
      ]
     },
     "execution_count": 13,
     "metadata": {},
     "output_type": "execute_result"
    }
   ],
   "source": [
    "\n",
    "import random\n",
    "\n",
    "def partition(nums,start,end):\n",
    "    mid = random.randint(start,end)\n",
    "    nums[start], nums[mid] = nums[mid], nums[start]\n",
    "    i = start + 1\n",
    "    j = end\n",
    "    while i <= j:\n",
    "        while i <= j and nums[i] <= nums[start]:\n",
    "            i += 1\n",
    "        while i <= j and nums[j] >= nums[start]:\n",
    "            j -= 1\n",
    "        if i < j:\n",
    "            nums[i], nums[j] = nums[j], nums[i]  \n",
    "    nums[start], nums[j] = nums[j], nums[start]\n",
    "    return j\n",
    "    \n",
    "\n",
    "\n",
    "def quickSort(nums, start, end):\n",
    "    if end <= start:\n",
    "        return\n",
    "    \n",
    "    index = partition(nums, start, end)\n",
    "    if start < index-1:\n",
    "        quickSort(nums, start, index-1)\n",
    "    if index+1 < end:\n",
    "        quickSort(nums, index+1, end)\n",
    "          \n",
    "    \n",
    "    \n",
    "    \n",
    "\n",
    "nums = [3,2,3,1,2,4,5,5,6]\n",
    "nums = [5,2,3,1]\n",
    "# index = partition(nums, 0, len(nums)-1)\n",
    "quickSort(nums, 0, len(nums)-1)\n",
    "index,nums"
   ]
  },
  {
   "cell_type": "code",
   "execution_count": null,
   "metadata": {},
   "outputs": [],
   "source": []
  }
 ],
 "metadata": {
  "kernelspec": {
   "display_name": "Python 3.6.12 64-bit ('python36': conda)",
   "language": "python",
   "name": "python3612jvsc74a57bd0f5a58e333481b3b331bc37ad43d34c7462e18768b90ee8656473bf902c01430e"
  },
  "language_info": {
   "codemirror_mode": {
    "name": "ipython",
    "version": 3
   },
   "file_extension": ".py",
   "mimetype": "text/x-python",
   "name": "python",
   "nbconvert_exporter": "python",
   "pygments_lexer": "ipython3",
   "version": "3.8.5"
  }
 },
 "nbformat": 4,
 "nbformat_minor": 4
}
